{
  "nbformat": 4,
  "nbformat_minor": 0,
  "metadata": {
    "colab": {
      "name": "wrangle_act.ipynb",
      "provenance": [],
      "collapsed_sections": [
        "zSpA3SypDCbn",
        "UWAC1VKWlEIt",
        "9Q07gBThinwI",
        "dvV1Ndy-j1kM"
      ]
    },
    "kernelspec": {
      "name": "python3",
      "display_name": "Python 3"
    }
  },
  "cells": [
    {
      "cell_type": "markdown",
      "metadata": {
        "id": "zSpA3SypDCbn",
        "colab_type": "text"
      },
      "source": [
        "# Gathering Data"
      ]
    },
    {
      "cell_type": "code",
      "metadata": {
        "id": "MAqBLr9tJLwL",
        "colab_type": "code",
        "outputId": "64943cb5-bff0-471d-ad87-d97d68713ab8",
        "colab": {
          "base_uri": "https://localhost:8080/",
          "height": 34
        }
      },
      "source": [
        "from google.colab import drive\n",
        "drive.mount('/content/drive')"
      ],
      "execution_count": 0,
      "outputs": [
        {
          "output_type": "stream",
          "text": [
            "Drive already mounted at /content/drive; to attempt to forcibly remount, call drive.mount(\"/content/drive\", force_remount=True).\n"
          ],
          "name": "stdout"
        }
      ]
    },
    {
      "cell_type": "code",
      "metadata": {
        "id": "ljPwQRd_JVpE",
        "colab_type": "code",
        "colab": {}
      },
      "source": [
        "import pandas as pd\n",
        "import requests\n",
        "import tweepy\n",
        "import json\n",
        "import sys\n",
        "import datetime as dt\n",
        "import matplotlib.pyplot as plt\n",
        "import re\n",
        "import numpy as np"
      ],
      "execution_count": 0,
      "outputs": []
    },
    {
      "cell_type": "code",
      "metadata": {
        "id": "Si4UUNNjJZb2",
        "colab_type": "code",
        "colab": {}
      },
      "source": [
        "fn_twitter_archive_enhanced = '/content/drive/My Drive/Colab Notebooks/Data Wrangling/Project/Data/twitter-archive-enhanced.csv'\n",
        "fn_img_pred_local_file_name = '/content/drive/My Drive/Colab Notebooks/Data Wrangling/Project/Data/image-preds.tsv'\n",
        "fn_local_json_file = '/content/drive/My Drive/Colab Notebooks/Data Wrangling/Project/Data/tweet_json.txt'\n",
        "fn_error_log = '/content/drive/My Drive/Colab Notebooks/Data Wrangling/Project/Data/json_download_log.txt'\n",
        "fn_local_json_file1 = '/content/drive/My Drive/Colab Notebooks/Data Wrangling/Project/Data/tweet-json.txt'\n",
        "fn_final_clean_file = '/content/drive/My Drive/Colab Notebooks/Data Wrangling/Project/Data/twitter_archive_master.csv'\n",
        "\n",
        "img_pred_url = 'https://d17h27t6h515a5.cloudfront.net/topher/2017/August/599fd2ad_image-predictions/image-predictions.tsv'\n",
        "\n",
        "consumer_key = 'MY CONSUMER KEY'\n",
        "consumer_secret = 'MY CONSUMER SECRET KEY'\n",
        "access_token = 'MY ACCESS TOKEN'\n",
        "access_secret = 'MY ACCESS SECRET'"
      ],
      "execution_count": 0,
      "outputs": []
    },
    {
      "cell_type": "code",
      "metadata": {
        "id": "SJBybbC8_NLV",
        "colab_type": "code",
        "outputId": "efb667d0-2220-47ec-97eb-a5f67b11202f",
        "colab": {
          "base_uri": "https://localhost:8080/",
          "height": 591
        }
      },
      "source": [
        "# Load the twitter enhance archive data\n",
        "df_twitter_archive = pd.read_csv(fn_twitter_archive_enhanced)\n",
        "df_twitter_archive.head()"
      ],
      "execution_count": 0,
      "outputs": [
        {
          "output_type": "execute_result",
          "data": {
            "text/html": [
              "<div>\n",
              "<style scoped>\n",
              "    .dataframe tbody tr th:only-of-type {\n",
              "        vertical-align: middle;\n",
              "    }\n",
              "\n",
              "    .dataframe tbody tr th {\n",
              "        vertical-align: top;\n",
              "    }\n",
              "\n",
              "    .dataframe thead th {\n",
              "        text-align: right;\n",
              "    }\n",
              "</style>\n",
              "<table border=\"1\" class=\"dataframe\">\n",
              "  <thead>\n",
              "    <tr style=\"text-align: right;\">\n",
              "      <th></th>\n",
              "      <th>tweet_id</th>\n",
              "      <th>in_reply_to_status_id</th>\n",
              "      <th>in_reply_to_user_id</th>\n",
              "      <th>timestamp</th>\n",
              "      <th>source</th>\n",
              "      <th>text</th>\n",
              "      <th>retweeted_status_id</th>\n",
              "      <th>retweeted_status_user_id</th>\n",
              "      <th>retweeted_status_timestamp</th>\n",
              "      <th>expanded_urls</th>\n",
              "      <th>rating_numerator</th>\n",
              "      <th>rating_denominator</th>\n",
              "      <th>name</th>\n",
              "      <th>doggo</th>\n",
              "      <th>floofer</th>\n",
              "      <th>pupper</th>\n",
              "      <th>puppo</th>\n",
              "    </tr>\n",
              "  </thead>\n",
              "  <tbody>\n",
              "    <tr>\n",
              "      <th>0</th>\n",
              "      <td>892420643555336193</td>\n",
              "      <td>NaN</td>\n",
              "      <td>NaN</td>\n",
              "      <td>2017-08-01 16:23:56 +0000</td>\n",
              "      <td>&lt;a href=\"http://twitter.com/download/iphone\" r...</td>\n",
              "      <td>This is Phineas. He's a mystical boy. Only eve...</td>\n",
              "      <td>NaN</td>\n",
              "      <td>NaN</td>\n",
              "      <td>NaN</td>\n",
              "      <td>https://twitter.com/dog_rates/status/892420643...</td>\n",
              "      <td>13</td>\n",
              "      <td>10</td>\n",
              "      <td>Phineas</td>\n",
              "      <td>None</td>\n",
              "      <td>None</td>\n",
              "      <td>None</td>\n",
              "      <td>None</td>\n",
              "    </tr>\n",
              "    <tr>\n",
              "      <th>1</th>\n",
              "      <td>892177421306343426</td>\n",
              "      <td>NaN</td>\n",
              "      <td>NaN</td>\n",
              "      <td>2017-08-01 00:17:27 +0000</td>\n",
              "      <td>&lt;a href=\"http://twitter.com/download/iphone\" r...</td>\n",
              "      <td>This is Tilly. She's just checking pup on you....</td>\n",
              "      <td>NaN</td>\n",
              "      <td>NaN</td>\n",
              "      <td>NaN</td>\n",
              "      <td>https://twitter.com/dog_rates/status/892177421...</td>\n",
              "      <td>13</td>\n",
              "      <td>10</td>\n",
              "      <td>Tilly</td>\n",
              "      <td>None</td>\n",
              "      <td>None</td>\n",
              "      <td>None</td>\n",
              "      <td>None</td>\n",
              "    </tr>\n",
              "    <tr>\n",
              "      <th>2</th>\n",
              "      <td>891815181378084864</td>\n",
              "      <td>NaN</td>\n",
              "      <td>NaN</td>\n",
              "      <td>2017-07-31 00:18:03 +0000</td>\n",
              "      <td>&lt;a href=\"http://twitter.com/download/iphone\" r...</td>\n",
              "      <td>This is Archie. He is a rare Norwegian Pouncin...</td>\n",
              "      <td>NaN</td>\n",
              "      <td>NaN</td>\n",
              "      <td>NaN</td>\n",
              "      <td>https://twitter.com/dog_rates/status/891815181...</td>\n",
              "      <td>12</td>\n",
              "      <td>10</td>\n",
              "      <td>Archie</td>\n",
              "      <td>None</td>\n",
              "      <td>None</td>\n",
              "      <td>None</td>\n",
              "      <td>None</td>\n",
              "    </tr>\n",
              "    <tr>\n",
              "      <th>3</th>\n",
              "      <td>891689557279858688</td>\n",
              "      <td>NaN</td>\n",
              "      <td>NaN</td>\n",
              "      <td>2017-07-30 15:58:51 +0000</td>\n",
              "      <td>&lt;a href=\"http://twitter.com/download/iphone\" r...</td>\n",
              "      <td>This is Darla. She commenced a snooze mid meal...</td>\n",
              "      <td>NaN</td>\n",
              "      <td>NaN</td>\n",
              "      <td>NaN</td>\n",
              "      <td>https://twitter.com/dog_rates/status/891689557...</td>\n",
              "      <td>13</td>\n",
              "      <td>10</td>\n",
              "      <td>Darla</td>\n",
              "      <td>None</td>\n",
              "      <td>None</td>\n",
              "      <td>None</td>\n",
              "      <td>None</td>\n",
              "    </tr>\n",
              "    <tr>\n",
              "      <th>4</th>\n",
              "      <td>891327558926688256</td>\n",
              "      <td>NaN</td>\n",
              "      <td>NaN</td>\n",
              "      <td>2017-07-29 16:00:24 +0000</td>\n",
              "      <td>&lt;a href=\"http://twitter.com/download/iphone\" r...</td>\n",
              "      <td>This is Franklin. He would like you to stop ca...</td>\n",
              "      <td>NaN</td>\n",
              "      <td>NaN</td>\n",
              "      <td>NaN</td>\n",
              "      <td>https://twitter.com/dog_rates/status/891327558...</td>\n",
              "      <td>12</td>\n",
              "      <td>10</td>\n",
              "      <td>Franklin</td>\n",
              "      <td>None</td>\n",
              "      <td>None</td>\n",
              "      <td>None</td>\n",
              "      <td>None</td>\n",
              "    </tr>\n",
              "  </tbody>\n",
              "</table>\n",
              "</div>"
            ],
            "text/plain": [
              "             tweet_id  in_reply_to_status_id  ...  pupper puppo\n",
              "0  892420643555336193                    NaN  ...    None  None\n",
              "1  892177421306343426                    NaN  ...    None  None\n",
              "2  891815181378084864                    NaN  ...    None  None\n",
              "3  891689557279858688                    NaN  ...    None  None\n",
              "4  891327558926688256                    NaN  ...    None  None\n",
              "\n",
              "[5 rows x 17 columns]"
            ]
          },
          "metadata": {
            "tags": []
          },
          "execution_count": 67
        }
      ]
    },
    {
      "cell_type": "code",
      "metadata": {
        "id": "z7jzW2AL_26P",
        "colab_type": "code",
        "colab": {}
      },
      "source": [
        "# Download the image prediction data\n",
        "response = requests.get(img_pred_url)"
      ],
      "execution_count": 0,
      "outputs": []
    },
    {
      "cell_type": "code",
      "metadata": {
        "id": "gzF9srCo_V5I",
        "colab_type": "code",
        "colab": {}
      },
      "source": [
        "# Store the data in a local file\n",
        "with open(fn_img_pred_local_file_name, mode='wb') as file:\n",
        "  file.write(response.content)"
      ],
      "execution_count": 0,
      "outputs": []
    },
    {
      "cell_type": "code",
      "metadata": {
        "id": "cs8BLlBWBcXG",
        "colab_type": "code",
        "outputId": "1147b548-9134-4057-815c-482e3789418d",
        "colab": {
          "base_uri": "https://localhost:8080/",
          "height": 293
        }
      },
      "source": [
        "# Load the data into a dataframe\n",
        "df_image_pred = pd.read_csv(fn_img_pred_local_file_name, sep='\\t')\n",
        "df_image_pred.head()"
      ],
      "execution_count": 0,
      "outputs": [
        {
          "output_type": "execute_result",
          "data": {
            "text/html": [
              "<div>\n",
              "<style scoped>\n",
              "    .dataframe tbody tr th:only-of-type {\n",
              "        vertical-align: middle;\n",
              "    }\n",
              "\n",
              "    .dataframe tbody tr th {\n",
              "        vertical-align: top;\n",
              "    }\n",
              "\n",
              "    .dataframe thead th {\n",
              "        text-align: right;\n",
              "    }\n",
              "</style>\n",
              "<table border=\"1\" class=\"dataframe\">\n",
              "  <thead>\n",
              "    <tr style=\"text-align: right;\">\n",
              "      <th></th>\n",
              "      <th>tweet_id</th>\n",
              "      <th>jpg_url</th>\n",
              "      <th>img_num</th>\n",
              "      <th>p1</th>\n",
              "      <th>p1_conf</th>\n",
              "      <th>p1_dog</th>\n",
              "      <th>p2</th>\n",
              "      <th>p2_conf</th>\n",
              "      <th>p2_dog</th>\n",
              "      <th>p3</th>\n",
              "      <th>p3_conf</th>\n",
              "      <th>p3_dog</th>\n",
              "    </tr>\n",
              "  </thead>\n",
              "  <tbody>\n",
              "    <tr>\n",
              "      <th>0</th>\n",
              "      <td>666020888022790149</td>\n",
              "      <td>https://pbs.twimg.com/media/CT4udn0WwAA0aMy.jpg</td>\n",
              "      <td>1</td>\n",
              "      <td>Welsh_springer_spaniel</td>\n",
              "      <td>0.465074</td>\n",
              "      <td>True</td>\n",
              "      <td>collie</td>\n",
              "      <td>0.156665</td>\n",
              "      <td>True</td>\n",
              "      <td>Shetland_sheepdog</td>\n",
              "      <td>0.061428</td>\n",
              "      <td>True</td>\n",
              "    </tr>\n",
              "    <tr>\n",
              "      <th>1</th>\n",
              "      <td>666029285002620928</td>\n",
              "      <td>https://pbs.twimg.com/media/CT42GRgUYAA5iDo.jpg</td>\n",
              "      <td>1</td>\n",
              "      <td>redbone</td>\n",
              "      <td>0.506826</td>\n",
              "      <td>True</td>\n",
              "      <td>miniature_pinscher</td>\n",
              "      <td>0.074192</td>\n",
              "      <td>True</td>\n",
              "      <td>Rhodesian_ridgeback</td>\n",
              "      <td>0.072010</td>\n",
              "      <td>True</td>\n",
              "    </tr>\n",
              "    <tr>\n",
              "      <th>2</th>\n",
              "      <td>666033412701032449</td>\n",
              "      <td>https://pbs.twimg.com/media/CT4521TWwAEvMyu.jpg</td>\n",
              "      <td>1</td>\n",
              "      <td>German_shepherd</td>\n",
              "      <td>0.596461</td>\n",
              "      <td>True</td>\n",
              "      <td>malinois</td>\n",
              "      <td>0.138584</td>\n",
              "      <td>True</td>\n",
              "      <td>bloodhound</td>\n",
              "      <td>0.116197</td>\n",
              "      <td>True</td>\n",
              "    </tr>\n",
              "    <tr>\n",
              "      <th>3</th>\n",
              "      <td>666044226329800704</td>\n",
              "      <td>https://pbs.twimg.com/media/CT5Dr8HUEAA-lEu.jpg</td>\n",
              "      <td>1</td>\n",
              "      <td>Rhodesian_ridgeback</td>\n",
              "      <td>0.408143</td>\n",
              "      <td>True</td>\n",
              "      <td>redbone</td>\n",
              "      <td>0.360687</td>\n",
              "      <td>True</td>\n",
              "      <td>miniature_pinscher</td>\n",
              "      <td>0.222752</td>\n",
              "      <td>True</td>\n",
              "    </tr>\n",
              "    <tr>\n",
              "      <th>4</th>\n",
              "      <td>666049248165822465</td>\n",
              "      <td>https://pbs.twimg.com/media/CT5IQmsXIAAKY4A.jpg</td>\n",
              "      <td>1</td>\n",
              "      <td>miniature_pinscher</td>\n",
              "      <td>0.560311</td>\n",
              "      <td>True</td>\n",
              "      <td>Rottweiler</td>\n",
              "      <td>0.243682</td>\n",
              "      <td>True</td>\n",
              "      <td>Doberman</td>\n",
              "      <td>0.154629</td>\n",
              "      <td>True</td>\n",
              "    </tr>\n",
              "  </tbody>\n",
              "</table>\n",
              "</div>"
            ],
            "text/plain": [
              "             tweet_id  ... p3_dog\n",
              "0  666020888022790149  ...   True\n",
              "1  666029285002620928  ...   True\n",
              "2  666033412701032449  ...   True\n",
              "3  666044226329800704  ...   True\n",
              "4  666049248165822465  ...   True\n",
              "\n",
              "[5 rows x 12 columns]"
            ]
          },
          "metadata": {
            "tags": []
          },
          "execution_count": 70
        }
      ]
    },
    {
      "cell_type": "markdown",
      "metadata": {
        "id": "UWAC1VKWlEIt",
        "colab_type": "text"
      },
      "source": [
        "### Code for Downloading Twitter data. This did not work. I had Rate limit issues"
      ]
    },
    {
      "cell_type": "code",
      "metadata": {
        "id": "tP8h73z-TsPa",
        "colab_type": "code",
        "colab": {}
      },
      "source": [
        "# Setup to access data from twitter\n",
        "auth = tweepy.OAuthHandler(consumer_key, consumer_secret)\n",
        "auth.set_access_token(access_token, access_secret)\n",
        "\n",
        "api = tweepy.API(auth, wait_on_rate_limit=True, wait_on_rate_limit_notify=True)\n",
        "\n",
        "# For each tweet, get the tweet details\n",
        "logf = open(fn_error_log, 'w')\n",
        "outfile = open(fn_local_json_file, 'w')\n",
        "for index, row in df_twitter_archive.iterrows():\n",
        "  t_id = row['tweet_id']\n",
        "  try:\n",
        "    data = api.get_status(t_id, tweet_mode='extended')._json + '\\n'\n",
        "    json.dump(data, outfile)\n",
        "    logf.write('Success|' + str(t_id) + '\\n')\n",
        "    print(str(t_id))\n",
        "  except:\n",
        "    logf.write('Error|' + str(t_id) + '\\n')\n",
        "\n",
        "logf.close()\n",
        "outfile.close()\n",
        "print('Done')"
      ],
      "execution_count": 0,
      "outputs": []
    },
    {
      "cell_type": "markdown",
      "metadata": {
        "id": "-YqBjzeIlrb_",
        "colab_type": "text"
      },
      "source": [
        "### Alternate to twitter download. Used the file provided"
      ]
    },
    {
      "cell_type": "code",
      "metadata": {
        "id": "Bf2vavG16Eql",
        "colab_type": "code",
        "outputId": "d5eaa4c5-53d6-43ed-ba39-54af7e4fcc9f",
        "colab": {
          "base_uri": "https://localhost:8080/",
          "height": 206
        }
      },
      "source": [
        "# Gather only those tweets which are not re-tweets\n",
        "# if line contains 'retweeted_status' key, it would mean its a retweet\n",
        "j_data = []\n",
        "with open(fn_local_json_file1, 'r') as j_file:\n",
        "  for line in j_file:\n",
        "    if 'retweeted_status' not in line:\n",
        "      j_content = json.loads(line)\n",
        "      j_data.append([j_content['id'], j_content['retweet_count'], j_content['favorite_count']])\n",
        "\n",
        "df_jdata = pd.DataFrame(j_data, columns=['tweet_id', 'retweet_count', 'favorite_count'])  \n",
        "df_jdata.head()\n",
        "      "
      ],
      "execution_count": 0,
      "outputs": [
        {
          "output_type": "execute_result",
          "data": {
            "text/html": [
              "<div>\n",
              "<style scoped>\n",
              "    .dataframe tbody tr th:only-of-type {\n",
              "        vertical-align: middle;\n",
              "    }\n",
              "\n",
              "    .dataframe tbody tr th {\n",
              "        vertical-align: top;\n",
              "    }\n",
              "\n",
              "    .dataframe thead th {\n",
              "        text-align: right;\n",
              "    }\n",
              "</style>\n",
              "<table border=\"1\" class=\"dataframe\">\n",
              "  <thead>\n",
              "    <tr style=\"text-align: right;\">\n",
              "      <th></th>\n",
              "      <th>tweet_id</th>\n",
              "      <th>retweet_count</th>\n",
              "      <th>favorite_count</th>\n",
              "    </tr>\n",
              "  </thead>\n",
              "  <tbody>\n",
              "    <tr>\n",
              "      <th>0</th>\n",
              "      <td>892420643555336193</td>\n",
              "      <td>8853</td>\n",
              "      <td>39467</td>\n",
              "    </tr>\n",
              "    <tr>\n",
              "      <th>1</th>\n",
              "      <td>892177421306343426</td>\n",
              "      <td>6514</td>\n",
              "      <td>33819</td>\n",
              "    </tr>\n",
              "    <tr>\n",
              "      <th>2</th>\n",
              "      <td>891815181378084864</td>\n",
              "      <td>4328</td>\n",
              "      <td>25461</td>\n",
              "    </tr>\n",
              "    <tr>\n",
              "      <th>3</th>\n",
              "      <td>891689557279858688</td>\n",
              "      <td>8964</td>\n",
              "      <td>42908</td>\n",
              "    </tr>\n",
              "    <tr>\n",
              "      <th>4</th>\n",
              "      <td>891327558926688256</td>\n",
              "      <td>9774</td>\n",
              "      <td>41048</td>\n",
              "    </tr>\n",
              "  </tbody>\n",
              "</table>\n",
              "</div>"
            ],
            "text/plain": [
              "             tweet_id  retweet_count  favorite_count\n",
              "0  892420643555336193           8853           39467\n",
              "1  892177421306343426           6514           33819\n",
              "2  891815181378084864           4328           25461\n",
              "3  891689557279858688           8964           42908\n",
              "4  891327558926688256           9774           41048"
            ]
          },
          "metadata": {
            "tags": []
          },
          "execution_count": 71
        }
      ]
    },
    {
      "cell_type": "markdown",
      "metadata": {
        "id": "9Q07gBThinwI",
        "colab_type": "text"
      },
      "source": [
        "# Assessing Data - eight (8) quality issues and two (2) tidiness issues "
      ]
    },
    {
      "cell_type": "code",
      "metadata": {
        "id": "QFQRgH_iiwjH",
        "colab_type": "code",
        "colab": {}
      },
      "source": [
        "# Create a copy of all the extracted/downloaded data\n",
        "df_twitter_arch_clean = df_twitter_archive.copy()\n",
        "df_image_pred_clean = df_image_pred.copy()\n",
        "df_jdata_clean = df_jdata.copy()"
      ],
      "execution_count": 0,
      "outputs": []
    },
    {
      "cell_type": "code",
      "metadata": {
        "id": "ECL02S3ci8-R",
        "colab_type": "code",
        "outputId": "bebcae4b-921c-45b7-cfe5-51dbeee0019d",
        "colab": {
          "base_uri": "https://localhost:8080/",
          "height": 399
        }
      },
      "source": [
        "df_twitter_arch_clean.info()"
      ],
      "execution_count": 0,
      "outputs": [
        {
          "output_type": "stream",
          "text": [
            "<class 'pandas.core.frame.DataFrame'>\n",
            "RangeIndex: 2356 entries, 0 to 2355\n",
            "Data columns (total 17 columns):\n",
            "tweet_id                      2356 non-null int64\n",
            "in_reply_to_status_id         78 non-null float64\n",
            "in_reply_to_user_id           78 non-null float64\n",
            "timestamp                     2356 non-null object\n",
            "source                        2356 non-null object\n",
            "text                          2356 non-null object\n",
            "retweeted_status_id           181 non-null float64\n",
            "retweeted_status_user_id      181 non-null float64\n",
            "retweeted_status_timestamp    181 non-null object\n",
            "expanded_urls                 2297 non-null object\n",
            "rating_numerator              2356 non-null int64\n",
            "rating_denominator            2356 non-null int64\n",
            "name                          2356 non-null object\n",
            "doggo                         2356 non-null object\n",
            "floofer                       2356 non-null object\n",
            "pupper                        2356 non-null object\n",
            "puppo                         2356 non-null object\n",
            "dtypes: float64(4), int64(3), object(10)\n",
            "memory usage: 313.0+ KB\n"
          ],
          "name": "stdout"
        }
      ]
    },
    {
      "cell_type": "code",
      "metadata": {
        "id": "uxy272CFkxXT",
        "colab_type": "code",
        "outputId": "1ce328ec-7eb7-4575-cccc-e51b06d0d649",
        "colab": {
          "base_uri": "https://localhost:8080/",
          "height": 591
        }
      },
      "source": [
        "df_twitter_arch_clean.head(5)"
      ],
      "execution_count": 0,
      "outputs": [
        {
          "output_type": "execute_result",
          "data": {
            "text/html": [
              "<div>\n",
              "<style scoped>\n",
              "    .dataframe tbody tr th:only-of-type {\n",
              "        vertical-align: middle;\n",
              "    }\n",
              "\n",
              "    .dataframe tbody tr th {\n",
              "        vertical-align: top;\n",
              "    }\n",
              "\n",
              "    .dataframe thead th {\n",
              "        text-align: right;\n",
              "    }\n",
              "</style>\n",
              "<table border=\"1\" class=\"dataframe\">\n",
              "  <thead>\n",
              "    <tr style=\"text-align: right;\">\n",
              "      <th></th>\n",
              "      <th>tweet_id</th>\n",
              "      <th>in_reply_to_status_id</th>\n",
              "      <th>in_reply_to_user_id</th>\n",
              "      <th>timestamp</th>\n",
              "      <th>source</th>\n",
              "      <th>text</th>\n",
              "      <th>retweeted_status_id</th>\n",
              "      <th>retweeted_status_user_id</th>\n",
              "      <th>retweeted_status_timestamp</th>\n",
              "      <th>expanded_urls</th>\n",
              "      <th>rating_numerator</th>\n",
              "      <th>rating_denominator</th>\n",
              "      <th>name</th>\n",
              "      <th>doggo</th>\n",
              "      <th>floofer</th>\n",
              "      <th>pupper</th>\n",
              "      <th>puppo</th>\n",
              "    </tr>\n",
              "  </thead>\n",
              "  <tbody>\n",
              "    <tr>\n",
              "      <th>0</th>\n",
              "      <td>892420643555336193</td>\n",
              "      <td>NaN</td>\n",
              "      <td>NaN</td>\n",
              "      <td>2017-08-01 16:23:56 +0000</td>\n",
              "      <td>&lt;a href=\"http://twitter.com/download/iphone\" r...</td>\n",
              "      <td>This is Phineas. He's a mystical boy. Only eve...</td>\n",
              "      <td>NaN</td>\n",
              "      <td>NaN</td>\n",
              "      <td>NaN</td>\n",
              "      <td>https://twitter.com/dog_rates/status/892420643...</td>\n",
              "      <td>13</td>\n",
              "      <td>10</td>\n",
              "      <td>Phineas</td>\n",
              "      <td>None</td>\n",
              "      <td>None</td>\n",
              "      <td>None</td>\n",
              "      <td>None</td>\n",
              "    </tr>\n",
              "    <tr>\n",
              "      <th>1</th>\n",
              "      <td>892177421306343426</td>\n",
              "      <td>NaN</td>\n",
              "      <td>NaN</td>\n",
              "      <td>2017-08-01 00:17:27 +0000</td>\n",
              "      <td>&lt;a href=\"http://twitter.com/download/iphone\" r...</td>\n",
              "      <td>This is Tilly. She's just checking pup on you....</td>\n",
              "      <td>NaN</td>\n",
              "      <td>NaN</td>\n",
              "      <td>NaN</td>\n",
              "      <td>https://twitter.com/dog_rates/status/892177421...</td>\n",
              "      <td>13</td>\n",
              "      <td>10</td>\n",
              "      <td>Tilly</td>\n",
              "      <td>None</td>\n",
              "      <td>None</td>\n",
              "      <td>None</td>\n",
              "      <td>None</td>\n",
              "    </tr>\n",
              "    <tr>\n",
              "      <th>2</th>\n",
              "      <td>891815181378084864</td>\n",
              "      <td>NaN</td>\n",
              "      <td>NaN</td>\n",
              "      <td>2017-07-31 00:18:03 +0000</td>\n",
              "      <td>&lt;a href=\"http://twitter.com/download/iphone\" r...</td>\n",
              "      <td>This is Archie. He is a rare Norwegian Pouncin...</td>\n",
              "      <td>NaN</td>\n",
              "      <td>NaN</td>\n",
              "      <td>NaN</td>\n",
              "      <td>https://twitter.com/dog_rates/status/891815181...</td>\n",
              "      <td>12</td>\n",
              "      <td>10</td>\n",
              "      <td>Archie</td>\n",
              "      <td>None</td>\n",
              "      <td>None</td>\n",
              "      <td>None</td>\n",
              "      <td>None</td>\n",
              "    </tr>\n",
              "    <tr>\n",
              "      <th>3</th>\n",
              "      <td>891689557279858688</td>\n",
              "      <td>NaN</td>\n",
              "      <td>NaN</td>\n",
              "      <td>2017-07-30 15:58:51 +0000</td>\n",
              "      <td>&lt;a href=\"http://twitter.com/download/iphone\" r...</td>\n",
              "      <td>This is Darla. She commenced a snooze mid meal...</td>\n",
              "      <td>NaN</td>\n",
              "      <td>NaN</td>\n",
              "      <td>NaN</td>\n",
              "      <td>https://twitter.com/dog_rates/status/891689557...</td>\n",
              "      <td>13</td>\n",
              "      <td>10</td>\n",
              "      <td>Darla</td>\n",
              "      <td>None</td>\n",
              "      <td>None</td>\n",
              "      <td>None</td>\n",
              "      <td>None</td>\n",
              "    </tr>\n",
              "    <tr>\n",
              "      <th>4</th>\n",
              "      <td>891327558926688256</td>\n",
              "      <td>NaN</td>\n",
              "      <td>NaN</td>\n",
              "      <td>2017-07-29 16:00:24 +0000</td>\n",
              "      <td>&lt;a href=\"http://twitter.com/download/iphone\" r...</td>\n",
              "      <td>This is Franklin. He would like you to stop ca...</td>\n",
              "      <td>NaN</td>\n",
              "      <td>NaN</td>\n",
              "      <td>NaN</td>\n",
              "      <td>https://twitter.com/dog_rates/status/891327558...</td>\n",
              "      <td>12</td>\n",
              "      <td>10</td>\n",
              "      <td>Franklin</td>\n",
              "      <td>None</td>\n",
              "      <td>None</td>\n",
              "      <td>None</td>\n",
              "      <td>None</td>\n",
              "    </tr>\n",
              "  </tbody>\n",
              "</table>\n",
              "</div>"
            ],
            "text/plain": [
              "             tweet_id  in_reply_to_status_id  ...  pupper puppo\n",
              "0  892420643555336193                    NaN  ...    None  None\n",
              "1  892177421306343426                    NaN  ...    None  None\n",
              "2  891815181378084864                    NaN  ...    None  None\n",
              "3  891689557279858688                    NaN  ...    None  None\n",
              "4  891327558926688256                    NaN  ...    None  None\n",
              "\n",
              "[5 rows x 17 columns]"
            ]
          },
          "metadata": {
            "tags": []
          },
          "execution_count": 74
        }
      ]
    },
    {
      "cell_type": "code",
      "metadata": {
        "id": "SF-nsiyk_ZGy",
        "colab_type": "code",
        "outputId": "fbac5592-72bc-4bff-9cf9-a22b6da8a17c",
        "colab": {
          "base_uri": "https://localhost:8080/",
          "height": 34
        }
      },
      "source": [
        "# check if any of these tweets are re-tweeted. These need to be removed\n",
        "df_twitter_arch_clean.retweeted_status_id.notnull().sum()"
      ],
      "execution_count": 0,
      "outputs": [
        {
          "output_type": "execute_result",
          "data": {
            "text/plain": [
              "181"
            ]
          },
          "metadata": {
            "tags": []
          },
          "execution_count": 75
        }
      ]
    },
    {
      "cell_type": "code",
      "metadata": {
        "id": "E4MEDpv0tK_O",
        "colab_type": "code",
        "outputId": "643f0e4f-499a-43c2-ae71-1e6a66e65848",
        "colab": {
          "base_uri": "https://localhost:8080/",
          "height": 34
        }
      },
      "source": [
        "# On visual checks it was noticed that there were multiple tweets where the picture was not dogs.\n",
        "# It had the text, 'we only rate dogs' lets check how many do we have like this\n",
        "str_search = 'WE ONLY RATE DOGS'\n",
        "df_twitter_arch_clean['text_uppercase'] = df_twitter_arch_clean.text.str.upper()\n",
        "df_twitter_arch_clean[df_twitter_arch_clean['text_uppercase'].str.contains(str_search)].shape[0]"
      ],
      "execution_count": 0,
      "outputs": [
        {
          "output_type": "execute_result",
          "data": {
            "text/plain": [
              "63"
            ]
          },
          "metadata": {
            "tags": []
          },
          "execution_count": 76
        }
      ]
    },
    {
      "cell_type": "code",
      "metadata": {
        "id": "fh2PLAiitTr_",
        "colab_type": "code",
        "colab": {}
      },
      "source": [
        "# Drop the additional column\n",
        "df_twitter_arch_clean.drop('text_uppercase', axis=1, inplace=True)"
      ],
      "execution_count": 0,
      "outputs": []
    },
    {
      "cell_type": "code",
      "metadata": {
        "id": "clADZHh3lq43",
        "colab_type": "code",
        "outputId": "74a8d344-edbb-4199-cca7-ab5420c5fb03",
        "colab": {
          "base_uri": "https://localhost:8080/",
          "height": 556
        }
      },
      "source": [
        "# Rating numerator and denominator do not have null values \n",
        "# Are there any rows where the denominator is not 10\n",
        "df_temp = df_twitter_arch_clean[df_twitter_arch_clean['rating_denominator']!=10]\n",
        "df_temp.head()"
      ],
      "execution_count": 0,
      "outputs": [
        {
          "output_type": "execute_result",
          "data": {
            "text/html": [
              "<div>\n",
              "<style scoped>\n",
              "    .dataframe tbody tr th:only-of-type {\n",
              "        vertical-align: middle;\n",
              "    }\n",
              "\n",
              "    .dataframe tbody tr th {\n",
              "        vertical-align: top;\n",
              "    }\n",
              "\n",
              "    .dataframe thead th {\n",
              "        text-align: right;\n",
              "    }\n",
              "</style>\n",
              "<table border=\"1\" class=\"dataframe\">\n",
              "  <thead>\n",
              "    <tr style=\"text-align: right;\">\n",
              "      <th></th>\n",
              "      <th>tweet_id</th>\n",
              "      <th>in_reply_to_status_id</th>\n",
              "      <th>in_reply_to_user_id</th>\n",
              "      <th>timestamp</th>\n",
              "      <th>source</th>\n",
              "      <th>text</th>\n",
              "      <th>retweeted_status_id</th>\n",
              "      <th>retweeted_status_user_id</th>\n",
              "      <th>retweeted_status_timestamp</th>\n",
              "      <th>expanded_urls</th>\n",
              "      <th>rating_numerator</th>\n",
              "      <th>rating_denominator</th>\n",
              "      <th>name</th>\n",
              "      <th>doggo</th>\n",
              "      <th>floofer</th>\n",
              "      <th>pupper</th>\n",
              "      <th>puppo</th>\n",
              "    </tr>\n",
              "  </thead>\n",
              "  <tbody>\n",
              "    <tr>\n",
              "      <th>313</th>\n",
              "      <td>835246439529840640</td>\n",
              "      <td>8.352460e+17</td>\n",
              "      <td>26259576.0</td>\n",
              "      <td>2017-02-24 21:54:03 +0000</td>\n",
              "      <td>&lt;a href=\"http://twitter.com/download/iphone\" r...</td>\n",
              "      <td>@jonnysun @Lin_Manuel ok jomny I know you're e...</td>\n",
              "      <td>NaN</td>\n",
              "      <td>NaN</td>\n",
              "      <td>NaN</td>\n",
              "      <td>NaN</td>\n",
              "      <td>960</td>\n",
              "      <td>0</td>\n",
              "      <td>None</td>\n",
              "      <td>None</td>\n",
              "      <td>None</td>\n",
              "      <td>None</td>\n",
              "      <td>None</td>\n",
              "    </tr>\n",
              "    <tr>\n",
              "      <th>342</th>\n",
              "      <td>832088576586297345</td>\n",
              "      <td>8.320875e+17</td>\n",
              "      <td>30582082.0</td>\n",
              "      <td>2017-02-16 04:45:50 +0000</td>\n",
              "      <td>&lt;a href=\"http://twitter.com/download/iphone\" r...</td>\n",
              "      <td>@docmisterio account started on 11/15/15</td>\n",
              "      <td>NaN</td>\n",
              "      <td>NaN</td>\n",
              "      <td>NaN</td>\n",
              "      <td>NaN</td>\n",
              "      <td>11</td>\n",
              "      <td>15</td>\n",
              "      <td>None</td>\n",
              "      <td>None</td>\n",
              "      <td>None</td>\n",
              "      <td>None</td>\n",
              "      <td>None</td>\n",
              "    </tr>\n",
              "    <tr>\n",
              "      <th>433</th>\n",
              "      <td>820690176645140481</td>\n",
              "      <td>NaN</td>\n",
              "      <td>NaN</td>\n",
              "      <td>2017-01-15 17:52:40 +0000</td>\n",
              "      <td>&lt;a href=\"http://twitter.com/download/iphone\" r...</td>\n",
              "      <td>The floofs have been released I repeat the flo...</td>\n",
              "      <td>NaN</td>\n",
              "      <td>NaN</td>\n",
              "      <td>NaN</td>\n",
              "      <td>https://twitter.com/dog_rates/status/820690176...</td>\n",
              "      <td>84</td>\n",
              "      <td>70</td>\n",
              "      <td>None</td>\n",
              "      <td>None</td>\n",
              "      <td>None</td>\n",
              "      <td>None</td>\n",
              "      <td>None</td>\n",
              "    </tr>\n",
              "    <tr>\n",
              "      <th>516</th>\n",
              "      <td>810984652412424192</td>\n",
              "      <td>NaN</td>\n",
              "      <td>NaN</td>\n",
              "      <td>2016-12-19 23:06:23 +0000</td>\n",
              "      <td>&lt;a href=\"http://twitter.com/download/iphone\" r...</td>\n",
              "      <td>Meet Sam. She smiles 24/7 &amp;amp; secretly aspir...</td>\n",
              "      <td>NaN</td>\n",
              "      <td>NaN</td>\n",
              "      <td>NaN</td>\n",
              "      <td>https://www.gofundme.com/sams-smile,https://tw...</td>\n",
              "      <td>24</td>\n",
              "      <td>7</td>\n",
              "      <td>Sam</td>\n",
              "      <td>None</td>\n",
              "      <td>None</td>\n",
              "      <td>None</td>\n",
              "      <td>None</td>\n",
              "    </tr>\n",
              "    <tr>\n",
              "      <th>784</th>\n",
              "      <td>775096608509886464</td>\n",
              "      <td>NaN</td>\n",
              "      <td>NaN</td>\n",
              "      <td>2016-09-11 22:20:06 +0000</td>\n",
              "      <td>&lt;a href=\"http://twitter.com/download/iphone\" r...</td>\n",
              "      <td>RT @dog_rates: After so many requests, this is...</td>\n",
              "      <td>7.403732e+17</td>\n",
              "      <td>4.196984e+09</td>\n",
              "      <td>2016-06-08 02:41:38 +0000</td>\n",
              "      <td>https://twitter.com/dog_rates/status/740373189...</td>\n",
              "      <td>9</td>\n",
              "      <td>11</td>\n",
              "      <td>None</td>\n",
              "      <td>None</td>\n",
              "      <td>None</td>\n",
              "      <td>None</td>\n",
              "      <td>None</td>\n",
              "    </tr>\n",
              "  </tbody>\n",
              "</table>\n",
              "</div>"
            ],
            "text/plain": [
              "               tweet_id  in_reply_to_status_id  ...  pupper puppo\n",
              "313  835246439529840640           8.352460e+17  ...    None  None\n",
              "342  832088576586297345           8.320875e+17  ...    None  None\n",
              "433  820690176645140481                    NaN  ...    None  None\n",
              "516  810984652412424192                    NaN  ...    None  None\n",
              "784  775096608509886464                    NaN  ...    None  None\n",
              "\n",
              "[5 rows x 17 columns]"
            ]
          },
          "metadata": {
            "tags": []
          },
          "execution_count": 78
        }
      ]
    },
    {
      "cell_type": "code",
      "metadata": {
        "id": "2Cvk64NhDXr6",
        "colab_type": "code",
        "outputId": "c6b5a1bf-523a-4e0b-d118-8bade772cfa1",
        "colab": {
          "base_uri": "https://localhost:8080/",
          "height": 206
        }
      },
      "source": [
        "# Is this because the data is incorrect or due to the fact the data was extracted incorrectly. Check the actual tweet text\n",
        "df_temp[['tweet_id', 'text', 'rating_denominator', 'rating_numerator']].head(5)"
      ],
      "execution_count": 0,
      "outputs": [
        {
          "output_type": "execute_result",
          "data": {
            "text/html": [
              "<div>\n",
              "<style scoped>\n",
              "    .dataframe tbody tr th:only-of-type {\n",
              "        vertical-align: middle;\n",
              "    }\n",
              "\n",
              "    .dataframe tbody tr th {\n",
              "        vertical-align: top;\n",
              "    }\n",
              "\n",
              "    .dataframe thead th {\n",
              "        text-align: right;\n",
              "    }\n",
              "</style>\n",
              "<table border=\"1\" class=\"dataframe\">\n",
              "  <thead>\n",
              "    <tr style=\"text-align: right;\">\n",
              "      <th></th>\n",
              "      <th>tweet_id</th>\n",
              "      <th>text</th>\n",
              "      <th>rating_denominator</th>\n",
              "      <th>rating_numerator</th>\n",
              "    </tr>\n",
              "  </thead>\n",
              "  <tbody>\n",
              "    <tr>\n",
              "      <th>313</th>\n",
              "      <td>835246439529840640</td>\n",
              "      <td>@jonnysun @Lin_Manuel ok jomny I know you're e...</td>\n",
              "      <td>0</td>\n",
              "      <td>960</td>\n",
              "    </tr>\n",
              "    <tr>\n",
              "      <th>342</th>\n",
              "      <td>832088576586297345</td>\n",
              "      <td>@docmisterio account started on 11/15/15</td>\n",
              "      <td>15</td>\n",
              "      <td>11</td>\n",
              "    </tr>\n",
              "    <tr>\n",
              "      <th>433</th>\n",
              "      <td>820690176645140481</td>\n",
              "      <td>The floofs have been released I repeat the flo...</td>\n",
              "      <td>70</td>\n",
              "      <td>84</td>\n",
              "    </tr>\n",
              "    <tr>\n",
              "      <th>516</th>\n",
              "      <td>810984652412424192</td>\n",
              "      <td>Meet Sam. She smiles 24/7 &amp;amp; secretly aspir...</td>\n",
              "      <td>7</td>\n",
              "      <td>24</td>\n",
              "    </tr>\n",
              "    <tr>\n",
              "      <th>784</th>\n",
              "      <td>775096608509886464</td>\n",
              "      <td>RT @dog_rates: After so many requests, this is...</td>\n",
              "      <td>11</td>\n",
              "      <td>9</td>\n",
              "    </tr>\n",
              "  </tbody>\n",
              "</table>\n",
              "</div>"
            ],
            "text/plain": [
              "               tweet_id  ... rating_numerator\n",
              "313  835246439529840640  ...              960\n",
              "342  832088576586297345  ...               11\n",
              "433  820690176645140481  ...               84\n",
              "516  810984652412424192  ...               24\n",
              "784  775096608509886464  ...                9\n",
              "\n",
              "[5 rows x 4 columns]"
            ]
          },
          "metadata": {
            "tags": []
          },
          "execution_count": 79
        }
      ]
    },
    {
      "cell_type": "markdown",
      "metadata": {
        "id": "uQ7H2qcnEsk-",
        "colab_type": "text"
      },
      "source": [
        "Visual checks show that the data is not being picked up corectly from the text field. The field rating_denominator is incorrectly picked up. Needs to be fixed. This will impact rating_numerator as well."
      ]
    },
    {
      "cell_type": "code",
      "metadata": {
        "id": "dqFwnTr_jcmW",
        "colab_type": "code",
        "outputId": "8b113f48-bcf2-4a1f-a8f4-5666f0f38546",
        "colab": {
          "base_uri": "https://localhost:8080/",
          "height": 272
        }
      },
      "source": [
        "# In case we are picking up the value from the text, lets check if there are any decimal values\n",
        "df_twitter_arch_clean[df_twitter_arch_clean.text.str.contains(r\"(\\d+\\.\\d*\\/\\d+)\")][['text', 'rating_numerator', 'rating_denominator']]"
      ],
      "execution_count": 0,
      "outputs": [
        {
          "output_type": "stream",
          "text": [
            "/usr/local/lib/python3.6/dist-packages/ipykernel_launcher.py:1: UserWarning: This pattern has match groups. To actually get the groups, use str.extract.\n",
            "  \"\"\"Entry point for launching an IPython kernel.\n"
          ],
          "name": "stderr"
        },
        {
          "output_type": "execute_result",
          "data": {
            "text/html": [
              "<div>\n",
              "<style scoped>\n",
              "    .dataframe tbody tr th:only-of-type {\n",
              "        vertical-align: middle;\n",
              "    }\n",
              "\n",
              "    .dataframe tbody tr th {\n",
              "        vertical-align: top;\n",
              "    }\n",
              "\n",
              "    .dataframe thead th {\n",
              "        text-align: right;\n",
              "    }\n",
              "</style>\n",
              "<table border=\"1\" class=\"dataframe\">\n",
              "  <thead>\n",
              "    <tr style=\"text-align: right;\">\n",
              "      <th></th>\n",
              "      <th>text</th>\n",
              "      <th>rating_numerator</th>\n",
              "      <th>rating_denominator</th>\n",
              "    </tr>\n",
              "  </thead>\n",
              "  <tbody>\n",
              "    <tr>\n",
              "      <th>45</th>\n",
              "      <td>This is Bella. She hopes her smile made you sm...</td>\n",
              "      <td>5</td>\n",
              "      <td>10</td>\n",
              "    </tr>\n",
              "    <tr>\n",
              "      <th>340</th>\n",
              "      <td>RT @dog_rates: This is Logan, the Chow who liv...</td>\n",
              "      <td>75</td>\n",
              "      <td>10</td>\n",
              "    </tr>\n",
              "    <tr>\n",
              "      <th>695</th>\n",
              "      <td>This is Logan, the Chow who lived. He solemnly...</td>\n",
              "      <td>75</td>\n",
              "      <td>10</td>\n",
              "    </tr>\n",
              "    <tr>\n",
              "      <th>763</th>\n",
              "      <td>This is Sophie. She's a Jubilant Bush Pupper. ...</td>\n",
              "      <td>27</td>\n",
              "      <td>10</td>\n",
              "    </tr>\n",
              "    <tr>\n",
              "      <th>1689</th>\n",
              "      <td>I've been told there's a slight possibility he...</td>\n",
              "      <td>5</td>\n",
              "      <td>10</td>\n",
              "    </tr>\n",
              "    <tr>\n",
              "      <th>1712</th>\n",
              "      <td>Here we have uncovered an entire battalion of ...</td>\n",
              "      <td>26</td>\n",
              "      <td>10</td>\n",
              "    </tr>\n",
              "  </tbody>\n",
              "</table>\n",
              "</div>"
            ],
            "text/plain": [
              "                                                   text  ...  rating_denominator\n",
              "45    This is Bella. She hopes her smile made you sm...  ...                  10\n",
              "340   RT @dog_rates: This is Logan, the Chow who liv...  ...                  10\n",
              "695   This is Logan, the Chow who lived. He solemnly...  ...                  10\n",
              "763   This is Sophie. She's a Jubilant Bush Pupper. ...  ...                  10\n",
              "1689  I've been told there's a slight possibility he...  ...                  10\n",
              "1712  Here we have uncovered an entire battalion of ...  ...                  10\n",
              "\n",
              "[6 rows x 3 columns]"
            ]
          },
          "metadata": {
            "tags": []
          },
          "execution_count": 80
        }
      ]
    },
    {
      "cell_type": "markdown",
      "metadata": {
        "id": "Jt9FRtjZoRbP",
        "colab_type": "text"
      },
      "source": [
        "On visually checking there are decimal values. The numerator column should be a float type"
      ]
    },
    {
      "cell_type": "code",
      "metadata": {
        "id": "i8f2Z2UFFQo2",
        "colab_type": "code",
        "outputId": "1b4cc9dc-c92d-4b58-8d67-dbcec2048723",
        "colab": {
          "base_uri": "https://localhost:8080/",
          "height": 729
        }
      },
      "source": [
        "# Check for the values in rating_numerator as well\n",
        "df_twitter_arch_clean.rating_numerator.value_counts()"
      ],
      "execution_count": 0,
      "outputs": [
        {
          "output_type": "execute_result",
          "data": {
            "text/plain": [
              "12      558\n",
              "11      464\n",
              "10      461\n",
              "13      351\n",
              "9       158\n",
              "8       102\n",
              "7        55\n",
              "14       54\n",
              "5        37\n",
              "6        32\n",
              "3        19\n",
              "4        17\n",
              "1         9\n",
              "2         9\n",
              "420       2\n",
              "0         2\n",
              "15        2\n",
              "75        2\n",
              "80        1\n",
              "20        1\n",
              "24        1\n",
              "26        1\n",
              "44        1\n",
              "50        1\n",
              "60        1\n",
              "165       1\n",
              "84        1\n",
              "88        1\n",
              "144       1\n",
              "182       1\n",
              "143       1\n",
              "666       1\n",
              "960       1\n",
              "1776      1\n",
              "17        1\n",
              "27        1\n",
              "45        1\n",
              "99        1\n",
              "121       1\n",
              "204       1\n",
              "Name: rating_numerator, dtype: int64"
            ]
          },
          "metadata": {
            "tags": []
          },
          "execution_count": 81
        }
      ]
    },
    {
      "cell_type": "markdown",
      "metadata": {
        "id": "udcsxbGwFwBE",
        "colab_type": "text"
      },
      "source": [
        "There are values like 420, 0, 165 etc. lets check the actual text values for these tweets"
      ]
    },
    {
      "cell_type": "code",
      "metadata": {
        "id": "y5Xe9InTF6kY",
        "colab_type": "code",
        "outputId": "5cf37d0d-7db8-4b20-9a3b-e6fb59eecad3",
        "colab": {
          "base_uri": "https://localhost:8080/",
          "height": 206
        }
      },
      "source": [
        "# Check for tweet texts where the numerator is 0 or greater than 20\n",
        "df_temp = df_twitter_arch_clean[(df_twitter_arch_clean['rating_numerator']==0) | (df_twitter_arch_clean['rating_numerator']>20)]\n",
        "df_temp[['tweet_id', 'text', 'rating_numerator']].head(5)"
      ],
      "execution_count": 0,
      "outputs": [
        {
          "output_type": "execute_result",
          "data": {
            "text/html": [
              "<div>\n",
              "<style scoped>\n",
              "    .dataframe tbody tr th:only-of-type {\n",
              "        vertical-align: middle;\n",
              "    }\n",
              "\n",
              "    .dataframe tbody tr th {\n",
              "        vertical-align: top;\n",
              "    }\n",
              "\n",
              "    .dataframe thead th {\n",
              "        text-align: right;\n",
              "    }\n",
              "</style>\n",
              "<table border=\"1\" class=\"dataframe\">\n",
              "  <thead>\n",
              "    <tr style=\"text-align: right;\">\n",
              "      <th></th>\n",
              "      <th>tweet_id</th>\n",
              "      <th>text</th>\n",
              "      <th>rating_numerator</th>\n",
              "    </tr>\n",
              "  </thead>\n",
              "  <tbody>\n",
              "    <tr>\n",
              "      <th>188</th>\n",
              "      <td>855862651834028034</td>\n",
              "      <td>@dhmontgomery We also gave snoop dogg a 420/10...</td>\n",
              "      <td>420</td>\n",
              "    </tr>\n",
              "    <tr>\n",
              "      <th>189</th>\n",
              "      <td>855860136149123072</td>\n",
              "      <td>@s8n You tried very hard to portray this good ...</td>\n",
              "      <td>666</td>\n",
              "    </tr>\n",
              "    <tr>\n",
              "      <th>290</th>\n",
              "      <td>838150277551247360</td>\n",
              "      <td>@markhoppus 182/10</td>\n",
              "      <td>182</td>\n",
              "    </tr>\n",
              "    <tr>\n",
              "      <th>313</th>\n",
              "      <td>835246439529840640</td>\n",
              "      <td>@jonnysun @Lin_Manuel ok jomny I know you're e...</td>\n",
              "      <td>960</td>\n",
              "    </tr>\n",
              "    <tr>\n",
              "      <th>315</th>\n",
              "      <td>835152434251116546</td>\n",
              "      <td>When you're so blinded by your systematic plag...</td>\n",
              "      <td>0</td>\n",
              "    </tr>\n",
              "  </tbody>\n",
              "</table>\n",
              "</div>"
            ],
            "text/plain": [
              "               tweet_id  ... rating_numerator\n",
              "188  855862651834028034  ...              420\n",
              "189  855860136149123072  ...              666\n",
              "290  838150277551247360  ...              182\n",
              "313  835246439529840640  ...              960\n",
              "315  835152434251116546  ...                0\n",
              "\n",
              "[5 rows x 3 columns]"
            ]
          },
          "metadata": {
            "tags": []
          },
          "execution_count": 82
        }
      ]
    },
    {
      "cell_type": "markdown",
      "metadata": {
        "id": "lOAX18m_GuAl",
        "colab_type": "text"
      },
      "source": [
        "On checking these values visually as well, seems like these are valid values. No change required."
      ]
    },
    {
      "cell_type": "code",
      "metadata": {
        "id": "071mBOjkMiJJ",
        "colab_type": "code",
        "outputId": "367cc450-3e60-4845-8a09-cc2a062b121f",
        "colab": {
          "base_uri": "https://localhost:8080/",
          "height": 34
        }
      },
      "source": [
        "# check for any duplicate rows in the dataframe\n",
        "df_twitter_arch_clean.duplicated().sum()"
      ],
      "execution_count": 0,
      "outputs": [
        {
          "output_type": "execute_result",
          "data": {
            "text/plain": [
              "0"
            ]
          },
          "metadata": {
            "tags": []
          },
          "execution_count": 83
        }
      ]
    },
    {
      "cell_type": "code",
      "metadata": {
        "id": "Z0p5e2h0O3v3",
        "colab_type": "code",
        "outputId": "550b43c0-f965-4c48-c375-67bf76ea089d",
        "colab": {
          "base_uri": "https://localhost:8080/",
          "height": 86
        }
      },
      "source": [
        "# check for the vales in the dog stage \n",
        "df_twitter_arch_clean.doggo.unique(), df_twitter_arch_clean.floofer.unique(), df_twitter_arch_clean.pupper.unique(), df_twitter_arch_clean.puppo.unique()"
      ],
      "execution_count": 0,
      "outputs": [
        {
          "output_type": "execute_result",
          "data": {
            "text/plain": [
              "(array(['None', 'doggo'], dtype=object),\n",
              " array(['None', 'floofer'], dtype=object),\n",
              " array(['None', 'pupper'], dtype=object),\n",
              " array(['None', 'puppo'], dtype=object))"
            ]
          },
          "metadata": {
            "tags": []
          },
          "execution_count": 84
        }
      ]
    },
    {
      "cell_type": "code",
      "metadata": {
        "id": "Yt2c5hDAQLj2",
        "colab_type": "code",
        "outputId": "6ed52889-a4d6-4c44-9794-8f9d06cad84b",
        "colab": {
          "base_uri": "https://localhost:8080/",
          "height": 173
        }
      },
      "source": [
        "# check to see if they are mutually unique\n",
        "df_twitter_arch_clean['combined_puppy_stage'] = (df_twitter_arch_clean.doggo + df_twitter_arch_clean.floofer + df_twitter_arch_clean.pupper + df_twitter_arch_clean.puppo)\n",
        "df_twitter_arch_clean['combined_puppy_stage'] = df_twitter_arch_clean['combined_puppy_stage'].str.replace('None', '')\n",
        "df_twitter_arch_clean.combined_puppy_stage.value_counts()"
      ],
      "execution_count": 0,
      "outputs": [
        {
          "output_type": "execute_result",
          "data": {
            "text/plain": [
              "                1976\n",
              "pupper           245\n",
              "doggo             83\n",
              "puppo             29\n",
              "doggopupper       12\n",
              "floofer            9\n",
              "doggopuppo         1\n",
              "doggofloofer       1\n",
              "Name: combined_puppy_stage, dtype: int64"
            ]
          },
          "metadata": {
            "tags": []
          },
          "execution_count": 85
        }
      ]
    },
    {
      "cell_type": "code",
      "metadata": {
        "id": "PTMCS7ndcii-",
        "colab_type": "code",
        "outputId": "c3cee3bf-d14e-4d89-bb80-2ca1fe8cbf32",
        "colab": {
          "base_uri": "https://localhost:8080/",
          "height": 1000
        }
      },
      "source": [
        "# Check the dog name column\n",
        "df_twitter_arch_clean.name.value_counts()"
      ],
      "execution_count": 0,
      "outputs": [
        {
          "output_type": "execute_result",
          "data": {
            "text/plain": [
              "None         745\n",
              "a             55\n",
              "Charlie       12\n",
              "Lucy          11\n",
              "Oliver        11\n",
              "Cooper        11\n",
              "Penny         10\n",
              "Lola          10\n",
              "Tucker        10\n",
              "Winston        9\n",
              "Bo             9\n",
              "Sadie          8\n",
              "the            8\n",
              "Toby           7\n",
              "Daisy          7\n",
              "Bailey         7\n",
              "an             7\n",
              "Buddy          7\n",
              "Jax            6\n",
              "Dave           6\n",
              "Jack           6\n",
              "Scout          6\n",
              "Leo            6\n",
              "Stanley        6\n",
              "Rusty          6\n",
              "Koda           6\n",
              "Oscar          6\n",
              "Bella          6\n",
              "Milo           6\n",
              "Chester        5\n",
              "            ... \n",
              "Jaycob         1\n",
              "Biden          1\n",
              "Vixen          1\n",
              "Sandra         1\n",
              "Jimbo          1\n",
              "Oreo           1\n",
              "Katie          1\n",
              "Taz            1\n",
              "Mo             1\n",
              "Zuzu           1\n",
              "Berkeley       1\n",
              "space          1\n",
              "Lillie         1\n",
              "Venti          1\n",
              "Zoe            1\n",
              "Bayley         1\n",
              "Keet           1\n",
              "Willem         1\n",
              "Ivar           1\n",
              "Dietrich       1\n",
              "Yukon          1\n",
              "Patch          1\n",
              "Laela          1\n",
              "Wishes         1\n",
              "Mutt           1\n",
              "Callie         1\n",
              "Tove           1\n",
              "Kobe           1\n",
              "Grady          1\n",
              "Jebberson      1\n",
              "Name: name, Length: 957, dtype: int64"
            ]
          },
          "metadata": {
            "tags": []
          },
          "execution_count": 86
        }
      ]
    },
    {
      "cell_type": "markdown",
      "metadata": {
        "id": "JN0B9O_wMRIr",
        "colab_type": "text"
      },
      "source": [
        "Are names like all, None, an valid values - lets do a visual check.\n",
        "On visually checking, \n",
        "None - there does not seem to be a name in these tweets, seems okay. Should be set to Blank\n",
        "a, all, the, actually - again here it seems to be incorrectly extracted. \n"
      ]
    },
    {
      "cell_type": "code",
      "metadata": {
        "id": "tMPvQ9vdVkly",
        "colab_type": "code",
        "outputId": "1ed40507-0b73-4277-e05e-ebed2b9214a6",
        "colab": {
          "base_uri": "https://localhost:8080/",
          "height": 469
        }
      },
      "source": [
        "# It seems that the dog names starting with a lower case are incorrect. Lets see some of those values\n",
        "df_twitter_arch_clean[df_twitter_arch_clean['name'].str[0].str.islower()]['name'].value_counts()"
      ],
      "execution_count": 0,
      "outputs": [
        {
          "output_type": "execute_result",
          "data": {
            "text/plain": [
              "a               55\n",
              "the              8\n",
              "an               7\n",
              "very             5\n",
              "quite            4\n",
              "one              4\n",
              "just             4\n",
              "not              2\n",
              "actually         2\n",
              "mad              2\n",
              "getting          2\n",
              "his              1\n",
              "infuriating      1\n",
              "unacceptable     1\n",
              "officially       1\n",
              "space            1\n",
              "old              1\n",
              "incredibly       1\n",
              "life             1\n",
              "light            1\n",
              "my               1\n",
              "such             1\n",
              "by               1\n",
              "all              1\n",
              "this             1\n",
              "Name: name, dtype: int64"
            ]
          },
          "metadata": {
            "tags": []
          },
          "execution_count": 87
        }
      ]
    },
    {
      "cell_type": "code",
      "metadata": {
        "id": "CiVTG-TlTh6h",
        "colab_type": "code",
        "outputId": "2089c930-e7ae-4a8c-b6c2-81ec0ced59f5",
        "colab": {
          "base_uri": "https://localhost:8080/",
          "height": 312
        }
      },
      "source": [
        "# Lets check the Image prediction dataframe\n",
        "df_image_pred_clean.info()"
      ],
      "execution_count": 0,
      "outputs": [
        {
          "output_type": "stream",
          "text": [
            "<class 'pandas.core.frame.DataFrame'>\n",
            "RangeIndex: 2075 entries, 0 to 2074\n",
            "Data columns (total 12 columns):\n",
            "tweet_id    2075 non-null int64\n",
            "jpg_url     2075 non-null object\n",
            "img_num     2075 non-null int64\n",
            "p1          2075 non-null object\n",
            "p1_conf     2075 non-null float64\n",
            "p1_dog      2075 non-null bool\n",
            "p2          2075 non-null object\n",
            "p2_conf     2075 non-null float64\n",
            "p2_dog      2075 non-null bool\n",
            "p3          2075 non-null object\n",
            "p3_conf     2075 non-null float64\n",
            "p3_dog      2075 non-null bool\n",
            "dtypes: bool(3), float64(3), int64(2), object(4)\n",
            "memory usage: 152.1+ KB\n"
          ],
          "name": "stdout"
        }
      ]
    },
    {
      "cell_type": "code",
      "metadata": {
        "id": "VVSRS44ZUnTL",
        "colab_type": "code",
        "outputId": "3f8e3a23-a22e-4996-a33d-ad7738618d6a",
        "colab": {
          "base_uri": "https://localhost:8080/",
          "height": 34
        }
      },
      "source": [
        "#check for any duplicates, since there are absolutely no null entries\n",
        "df_image_pred_clean.duplicated().sum(), df_image_pred_clean.tweet_id.duplicated().sum()"
      ],
      "execution_count": 0,
      "outputs": [
        {
          "output_type": "execute_result",
          "data": {
            "text/plain": [
              "(0, 0)"
            ]
          },
          "metadata": {
            "tags": []
          },
          "execution_count": 89
        }
      ]
    },
    {
      "cell_type": "code",
      "metadata": {
        "id": "ChPJAz6vUtiZ",
        "colab_type": "code",
        "outputId": "1de881dd-fcd7-4d13-b252-db5158309561",
        "colab": {
          "base_uri": "https://localhost:8080/",
          "height": 293
        }
      },
      "source": [
        "df_image_pred_clean.head()"
      ],
      "execution_count": 0,
      "outputs": [
        {
          "output_type": "execute_result",
          "data": {
            "text/html": [
              "<div>\n",
              "<style scoped>\n",
              "    .dataframe tbody tr th:only-of-type {\n",
              "        vertical-align: middle;\n",
              "    }\n",
              "\n",
              "    .dataframe tbody tr th {\n",
              "        vertical-align: top;\n",
              "    }\n",
              "\n",
              "    .dataframe thead th {\n",
              "        text-align: right;\n",
              "    }\n",
              "</style>\n",
              "<table border=\"1\" class=\"dataframe\">\n",
              "  <thead>\n",
              "    <tr style=\"text-align: right;\">\n",
              "      <th></th>\n",
              "      <th>tweet_id</th>\n",
              "      <th>jpg_url</th>\n",
              "      <th>img_num</th>\n",
              "      <th>p1</th>\n",
              "      <th>p1_conf</th>\n",
              "      <th>p1_dog</th>\n",
              "      <th>p2</th>\n",
              "      <th>p2_conf</th>\n",
              "      <th>p2_dog</th>\n",
              "      <th>p3</th>\n",
              "      <th>p3_conf</th>\n",
              "      <th>p3_dog</th>\n",
              "    </tr>\n",
              "  </thead>\n",
              "  <tbody>\n",
              "    <tr>\n",
              "      <th>0</th>\n",
              "      <td>666020888022790149</td>\n",
              "      <td>https://pbs.twimg.com/media/CT4udn0WwAA0aMy.jpg</td>\n",
              "      <td>1</td>\n",
              "      <td>Welsh_springer_spaniel</td>\n",
              "      <td>0.465074</td>\n",
              "      <td>True</td>\n",
              "      <td>collie</td>\n",
              "      <td>0.156665</td>\n",
              "      <td>True</td>\n",
              "      <td>Shetland_sheepdog</td>\n",
              "      <td>0.061428</td>\n",
              "      <td>True</td>\n",
              "    </tr>\n",
              "    <tr>\n",
              "      <th>1</th>\n",
              "      <td>666029285002620928</td>\n",
              "      <td>https://pbs.twimg.com/media/CT42GRgUYAA5iDo.jpg</td>\n",
              "      <td>1</td>\n",
              "      <td>redbone</td>\n",
              "      <td>0.506826</td>\n",
              "      <td>True</td>\n",
              "      <td>miniature_pinscher</td>\n",
              "      <td>0.074192</td>\n",
              "      <td>True</td>\n",
              "      <td>Rhodesian_ridgeback</td>\n",
              "      <td>0.072010</td>\n",
              "      <td>True</td>\n",
              "    </tr>\n",
              "    <tr>\n",
              "      <th>2</th>\n",
              "      <td>666033412701032449</td>\n",
              "      <td>https://pbs.twimg.com/media/CT4521TWwAEvMyu.jpg</td>\n",
              "      <td>1</td>\n",
              "      <td>German_shepherd</td>\n",
              "      <td>0.596461</td>\n",
              "      <td>True</td>\n",
              "      <td>malinois</td>\n",
              "      <td>0.138584</td>\n",
              "      <td>True</td>\n",
              "      <td>bloodhound</td>\n",
              "      <td>0.116197</td>\n",
              "      <td>True</td>\n",
              "    </tr>\n",
              "    <tr>\n",
              "      <th>3</th>\n",
              "      <td>666044226329800704</td>\n",
              "      <td>https://pbs.twimg.com/media/CT5Dr8HUEAA-lEu.jpg</td>\n",
              "      <td>1</td>\n",
              "      <td>Rhodesian_ridgeback</td>\n",
              "      <td>0.408143</td>\n",
              "      <td>True</td>\n",
              "      <td>redbone</td>\n",
              "      <td>0.360687</td>\n",
              "      <td>True</td>\n",
              "      <td>miniature_pinscher</td>\n",
              "      <td>0.222752</td>\n",
              "      <td>True</td>\n",
              "    </tr>\n",
              "    <tr>\n",
              "      <th>4</th>\n",
              "      <td>666049248165822465</td>\n",
              "      <td>https://pbs.twimg.com/media/CT5IQmsXIAAKY4A.jpg</td>\n",
              "      <td>1</td>\n",
              "      <td>miniature_pinscher</td>\n",
              "      <td>0.560311</td>\n",
              "      <td>True</td>\n",
              "      <td>Rottweiler</td>\n",
              "      <td>0.243682</td>\n",
              "      <td>True</td>\n",
              "      <td>Doberman</td>\n",
              "      <td>0.154629</td>\n",
              "      <td>True</td>\n",
              "    </tr>\n",
              "  </tbody>\n",
              "</table>\n",
              "</div>"
            ],
            "text/plain": [
              "             tweet_id  ... p3_dog\n",
              "0  666020888022790149  ...   True\n",
              "1  666029285002620928  ...   True\n",
              "2  666033412701032449  ...   True\n",
              "3  666044226329800704  ...   True\n",
              "4  666049248165822465  ...   True\n",
              "\n",
              "[5 rows x 12 columns]"
            ]
          },
          "metadata": {
            "tags": []
          },
          "execution_count": 90
        }
      ]
    },
    {
      "cell_type": "code",
      "metadata": {
        "id": "b7rgNFjJYs1j",
        "colab_type": "code",
        "outputId": "bd6a6190-4897-4277-adb2-ef443128815b",
        "colab": {
          "base_uri": "https://localhost:8080/",
          "height": 1000
        }
      },
      "source": [
        "df_image_pred_clean.p1.value_counts()"
      ],
      "execution_count": 0,
      "outputs": [
        {
          "output_type": "execute_result",
          "data": {
            "text/plain": [
              "golden_retriever             150\n",
              "Labrador_retriever           100\n",
              "Pembroke                      89\n",
              "Chihuahua                     83\n",
              "pug                           57\n",
              "chow                          44\n",
              "Samoyed                       43\n",
              "toy_poodle                    39\n",
              "Pomeranian                    38\n",
              "cocker_spaniel                30\n",
              "malamute                      30\n",
              "French_bulldog                26\n",
              "miniature_pinscher            23\n",
              "Chesapeake_Bay_retriever      23\n",
              "seat_belt                     22\n",
              "Siberian_husky                20\n",
              "German_shepherd               20\n",
              "Staffordshire_bullterrier     20\n",
              "Cardigan                      19\n",
              "web_site                      19\n",
              "teddy                         18\n",
              "Maltese_dog                   18\n",
              "Shetland_sheepdog             18\n",
              "Eskimo_dog                    18\n",
              "beagle                        18\n",
              "Lakeland_terrier              17\n",
              "Rottweiler                    17\n",
              "Shih-Tzu                      17\n",
              "Italian_greyhound             16\n",
              "kuvasz                        16\n",
              "                            ... \n",
              "bow                            1\n",
              "basketball                     1\n",
              "teapot                         1\n",
              "water_buffalo                  1\n",
              "hay                            1\n",
              "cuirass                        1\n",
              "fountain                       1\n",
              "ping-pong_ball                 1\n",
              "ice_lolly                      1\n",
              "grille                         1\n",
              "military_uniform               1\n",
              "agama                          1\n",
              "desktop_computer               1\n",
              "African_hunting_dog            1\n",
              "convertible                    1\n",
              "piggy_bank                     1\n",
              "king_penguin                   1\n",
              "bonnet                         1\n",
              "dining_table                   1\n",
              "nail                           1\n",
              "hare                           1\n",
              "pitcher                        1\n",
              "carousel                       1\n",
              "maillot                        1\n",
              "espresso                       1\n",
              "candle                         1\n",
              "rain_barrel                    1\n",
              "ibex                           1\n",
              "Scotch_terrier                 1\n",
              "trombone                       1\n",
              "Name: p1, Length: 378, dtype: int64"
            ]
          },
          "metadata": {
            "tags": []
          },
          "execution_count": 91
        }
      ]
    },
    {
      "cell_type": "code",
      "metadata": {
        "id": "tCzf7jnda7Yn",
        "colab_type": "code",
        "outputId": "0968c097-6562-4810-9de1-422c3c6fe06e",
        "colab": {
          "base_uri": "https://localhost:8080/",
          "height": 293
        }
      },
      "source": [
        "df_image_pred_clean.tail()"
      ],
      "execution_count": 0,
      "outputs": [
        {
          "output_type": "execute_result",
          "data": {
            "text/html": [
              "<div>\n",
              "<style scoped>\n",
              "    .dataframe tbody tr th:only-of-type {\n",
              "        vertical-align: middle;\n",
              "    }\n",
              "\n",
              "    .dataframe tbody tr th {\n",
              "        vertical-align: top;\n",
              "    }\n",
              "\n",
              "    .dataframe thead th {\n",
              "        text-align: right;\n",
              "    }\n",
              "</style>\n",
              "<table border=\"1\" class=\"dataframe\">\n",
              "  <thead>\n",
              "    <tr style=\"text-align: right;\">\n",
              "      <th></th>\n",
              "      <th>tweet_id</th>\n",
              "      <th>jpg_url</th>\n",
              "      <th>img_num</th>\n",
              "      <th>p1</th>\n",
              "      <th>p1_conf</th>\n",
              "      <th>p1_dog</th>\n",
              "      <th>p2</th>\n",
              "      <th>p2_conf</th>\n",
              "      <th>p2_dog</th>\n",
              "      <th>p3</th>\n",
              "      <th>p3_conf</th>\n",
              "      <th>p3_dog</th>\n",
              "    </tr>\n",
              "  </thead>\n",
              "  <tbody>\n",
              "    <tr>\n",
              "      <th>2070</th>\n",
              "      <td>891327558926688256</td>\n",
              "      <td>https://pbs.twimg.com/media/DF6hr6BUMAAzZgT.jpg</td>\n",
              "      <td>2</td>\n",
              "      <td>basset</td>\n",
              "      <td>0.555712</td>\n",
              "      <td>True</td>\n",
              "      <td>English_springer</td>\n",
              "      <td>0.225770</td>\n",
              "      <td>True</td>\n",
              "      <td>German_short-haired_pointer</td>\n",
              "      <td>0.175219</td>\n",
              "      <td>True</td>\n",
              "    </tr>\n",
              "    <tr>\n",
              "      <th>2071</th>\n",
              "      <td>891689557279858688</td>\n",
              "      <td>https://pbs.twimg.com/media/DF_q7IAWsAEuuN8.jpg</td>\n",
              "      <td>1</td>\n",
              "      <td>paper_towel</td>\n",
              "      <td>0.170278</td>\n",
              "      <td>False</td>\n",
              "      <td>Labrador_retriever</td>\n",
              "      <td>0.168086</td>\n",
              "      <td>True</td>\n",
              "      <td>spatula</td>\n",
              "      <td>0.040836</td>\n",
              "      <td>False</td>\n",
              "    </tr>\n",
              "    <tr>\n",
              "      <th>2072</th>\n",
              "      <td>891815181378084864</td>\n",
              "      <td>https://pbs.twimg.com/media/DGBdLU1WsAANxJ9.jpg</td>\n",
              "      <td>1</td>\n",
              "      <td>Chihuahua</td>\n",
              "      <td>0.716012</td>\n",
              "      <td>True</td>\n",
              "      <td>malamute</td>\n",
              "      <td>0.078253</td>\n",
              "      <td>True</td>\n",
              "      <td>kelpie</td>\n",
              "      <td>0.031379</td>\n",
              "      <td>True</td>\n",
              "    </tr>\n",
              "    <tr>\n",
              "      <th>2073</th>\n",
              "      <td>892177421306343426</td>\n",
              "      <td>https://pbs.twimg.com/media/DGGmoV4XsAAUL6n.jpg</td>\n",
              "      <td>1</td>\n",
              "      <td>Chihuahua</td>\n",
              "      <td>0.323581</td>\n",
              "      <td>True</td>\n",
              "      <td>Pekinese</td>\n",
              "      <td>0.090647</td>\n",
              "      <td>True</td>\n",
              "      <td>papillon</td>\n",
              "      <td>0.068957</td>\n",
              "      <td>True</td>\n",
              "    </tr>\n",
              "    <tr>\n",
              "      <th>2074</th>\n",
              "      <td>892420643555336193</td>\n",
              "      <td>https://pbs.twimg.com/media/DGKD1-bXoAAIAUK.jpg</td>\n",
              "      <td>1</td>\n",
              "      <td>orange</td>\n",
              "      <td>0.097049</td>\n",
              "      <td>False</td>\n",
              "      <td>bagel</td>\n",
              "      <td>0.085851</td>\n",
              "      <td>False</td>\n",
              "      <td>banana</td>\n",
              "      <td>0.076110</td>\n",
              "      <td>False</td>\n",
              "    </tr>\n",
              "  </tbody>\n",
              "</table>\n",
              "</div>"
            ],
            "text/plain": [
              "                tweet_id  ... p3_dog\n",
              "2070  891327558926688256  ...   True\n",
              "2071  891689557279858688  ...  False\n",
              "2072  891815181378084864  ...   True\n",
              "2073  892177421306343426  ...   True\n",
              "2074  892420643555336193  ...  False\n",
              "\n",
              "[5 rows x 12 columns]"
            ]
          },
          "metadata": {
            "tags": []
          },
          "execution_count": 92
        }
      ]
    },
    {
      "cell_type": "code",
      "metadata": {
        "id": "RPAGx9AHbhPo",
        "colab_type": "code",
        "outputId": "5a4dfd24-8adf-43ae-e8bf-e1c23c75dd00",
        "colab": {
          "base_uri": "https://localhost:8080/",
          "height": 156
        }
      },
      "source": [
        "# Json data file\n",
        "df_jdata_clean.info()"
      ],
      "execution_count": 0,
      "outputs": [
        {
          "output_type": "stream",
          "text": [
            "<class 'pandas.core.frame.DataFrame'>\n",
            "RangeIndex: 2175 entries, 0 to 2174\n",
            "Data columns (total 3 columns):\n",
            "tweet_id          2175 non-null int64\n",
            "retweet_count     2175 non-null int64\n",
            "favorite_count    2175 non-null int64\n",
            "dtypes: int64(3)\n",
            "memory usage: 51.1 KB\n"
          ],
          "name": "stdout"
        }
      ]
    },
    {
      "cell_type": "markdown",
      "metadata": {
        "id": "DZp6m96zk6Dm",
        "colab_type": "text"
      },
      "source": [
        "# Data Quality and Tidiness Issues \n",
        "\n",
        "- DataFrame for Archived Twitter data\n",
        "\n",
        "      1) Quality Issue - Base on the column retweeted_status_id, we noticed that there are around 181 retweets in this dataset. This should be removed.\n",
        "\n",
        "      2) Quality Issue - There were tweets with the Text 'We only rate dogs'. These tweets should be excluded from our analysis.\n",
        "\n",
        "      3) Quality Issue - There are rows where the rating_denominator is not 10. On checking visually for these rows, it seems that they were not parsed correctly from the text. Re-extract the Rating denominator from the text\n",
        "\n",
        "      4) Quality Issue - For the rows where rating_denominator is incorrect, it was also noticed that the rating_numerator is incorrect. This needs to be correctly extracted. \n",
        "\n",
        "      5) Tidiness Issue - Currently the rating_numerator and rating_denominator columns are type objects which would be string. We also noticed that some numerator values could be decimals. Change numerator to float and denominator to int\n",
        "\n",
        "      6) Tidiness Issue - The puppy stage columns could have been consolidated to have a categorical value. However, there are 2 rows which have both values. For these 2, concatenate using ','.\n",
        "      \n",
        "      7) Quality Issue - The puppy stage columns have text like 'None' Can be fixed as Blank.\n",
        "\n",
        "      8) Quality Issue - The timestamp column has additional details like +0000 which does not look necessary/correct. \n",
        "      \n",
        "      9) Tidiness Issue - The timestamp, retweeted_status_timestamp columns are object instead of datetime. Change timestamp to datetime type\n",
        "\n",
        "      10) Tidiness Issue - in_reply_to_status_id, in_reply_to_user_id expanded_urls contains null values. These can be excluded from analysis.\n",
        "\n",
        "      11) Quality Issue - The dog name column has 'None'. Should be Blank instead\n",
        "\n",
        "      12) Quality Issue - Are names like all, None, an valid values. On visually checking, For values where it starts with a lowercase letter: a, all, the, actually - again here it seems to be incorrectly extracted. However on visually checking these records, it seems that there are no names in these tweets. Reset these values to Blank\n",
        "      \n",
        "- DataFrame for Image Prediction data\n",
        "\n",
        "      13) Quality Issue - There are 2356 entries in the Twitter Archived dataframe where as here there are only 2075 entries. We are missing approximately around 300 records at the least not considering any mismatches. Since these are missing, they cannot be merged back at the moment.\n",
        "      \n",
        "      14) Tidiness Issue - The predicted p1, p2 and p3 have values which are not dogs. Relevant data would be to pick the prediction which is actually a dog with the highest probability. Create a scoring system to ascertain the best probaility of a dog\n",
        "\n",
        "- DataFrame for Json data\n",
        "\n",
        "      15) This is the filtered list of tweets which are not re-tweets. This will be the source list for the rest of the data when combined together\n",
        "      \n",
        "16) Tidiness Issue - Pull in the data from Image Prediction and Json data to the twitter archive dataframe for analysis\n"
      ]
    },
    {
      "cell_type": "markdown",
      "metadata": {
        "id": "dvV1Ndy-j1kM",
        "colab_type": "text"
      },
      "source": [
        "# Cleaning the data"
      ]
    },
    {
      "cell_type": "code",
      "metadata": {
        "id": "ZpRW59pNgVti",
        "colab_type": "code",
        "colab": {}
      },
      "source": [
        "# DEFINE: Issue 1: Quality Issue - Base on the column retweeted_status_id, we noticed that there are around 181 retweets in this dataset. This should be removed\n",
        "# CLEAN: Issue 1:\n",
        "df_twitter_arch_clean = df_twitter_arch_clean[df_twitter_arch_clean.retweeted_status_id.isnull()]"
      ],
      "execution_count": 0,
      "outputs": []
    },
    {
      "cell_type": "code",
      "metadata": {
        "id": "yCW3SayeuCA0",
        "colab_type": "code",
        "outputId": "3f2a2999-ad0e-4808-f1cf-08779c7d8a26",
        "colab": {
          "base_uri": "https://localhost:8080/",
          "height": 34
        }
      },
      "source": [
        "# TEST CLEANED: Issue 1\n",
        "df_twitter_arch_clean.retweeted_status_id.notnull().sum()"
      ],
      "execution_count": 0,
      "outputs": [
        {
          "output_type": "execute_result",
          "data": {
            "text/plain": [
              "0"
            ]
          },
          "metadata": {
            "tags": []
          },
          "execution_count": 95
        }
      ]
    },
    {
      "cell_type": "code",
      "metadata": {
        "id": "RqWS6N40tBHO",
        "colab_type": "code",
        "colab": {}
      },
      "source": [
        "# DEFINE: Issue 2: Quality Issue - On visual checks it was noticed that there were multiple tweets where the picture was not dogs.\n",
        "#                   It had the text, 'we only rate dogs'. Remove these rows\n",
        "# CLEAN: Issue 2:\n",
        "str_search = 'WE ONLY RATE DOGS'\n",
        "df_twitter_arch_clean['text_uppercase'] = df_twitter_arch_clean.text.str.upper()\n",
        "df_twitter_arch_clean = df_twitter_arch_clean[~df_twitter_arch_clean['text_uppercase'].str.contains(str_search)]"
      ],
      "execution_count": 0,
      "outputs": []
    },
    {
      "cell_type": "code",
      "metadata": {
        "id": "o1HIajnVt-VB",
        "colab_type": "code",
        "outputId": "57c2c45f-d53c-448c-a86e-c04b43b115f7",
        "colab": {
          "base_uri": "https://localhost:8080/",
          "height": 34
        }
      },
      "source": [
        "# TEST CLEANED: Issue 2\n",
        "df_twitter_arch_clean[df_twitter_arch_clean['text_uppercase'].str.contains(str_search)].shape[0]"
      ],
      "execution_count": 0,
      "outputs": [
        {
          "output_type": "execute_result",
          "data": {
            "text/plain": [
              "0"
            ]
          },
          "metadata": {
            "tags": []
          },
          "execution_count": 97
        }
      ]
    },
    {
      "cell_type": "code",
      "metadata": {
        "id": "3L0czhnih2TV",
        "colab_type": "code",
        "colab": {}
      },
      "source": [
        "# DEFINE: \n",
        "\n",
        "# Issue 3: Quality Issue - There are rows where the rating_denominator is not 10. On checking visually for these rows, it seems that they were not parsed correctly from the text. \n",
        "#           Re-extract the Rating denominator from the text\n",
        "\n",
        "# Issue 4: Quality Issue - For the rows where rating_denominator is incorrect, it was also noticed that the rating_numerator is incorrect. This needs to be correctly extracted.\n",
        "\n",
        "# Issue 5: Quality/Tidiness Issue - Currently the rating_numerator and rating_denominator columns are type objects which would be string. \n",
        "#           We also noticed that some numerator values could be decimals. Add clean columns for these two of type float\n",
        "\n",
        "# CLEAN: Issue 3, 4, 5:\n",
        "# For each row, get the twitter text, Split by pattern %d/%d, take the one which has 10 as the denominator\n",
        "df_twitter_arch_clean['numerator_clean'] = 0.0\n",
        "df_twitter_arch_clean['denominator_clean'] = 0.0\n",
        "df_twitter_arch_clean.numerator_clean.astype(float)\n",
        "df_twitter_arch_clean.denominator_clean.astype(float)\n",
        "\n",
        "for index, row in df_twitter_arch_clean.iterrows():\n",
        "  s_split = re.findall('\\d+\\.*\\d*/\\d+', row.text) # this pattern should give us both decimal and non-decimal values\n",
        "  for s in s_split:\n",
        "    num = float(s.split('/')[0])\n",
        "    denom = float(s.split('/')[1])\n",
        "    if(denom==10):\n",
        "      df_twitter_arch_clean.loc[index,'numerator_clean'] = num\n",
        "      df_twitter_arch_clean.loc[index,'denominator_clean'] = denom\n",
        "      break\n"
      ],
      "execution_count": 0,
      "outputs": []
    },
    {
      "cell_type": "code",
      "metadata": {
        "id": "UhE4A_nJrebX",
        "colab_type": "code",
        "outputId": "cf716441-d4e8-4868-d0bf-0332800cd175",
        "colab": {
          "base_uri": "https://localhost:8080/",
          "height": 206
        }
      },
      "source": [
        "# TEST CLEANED: \n",
        "# Issue 3 and 4\n",
        "df_twitter_arch_clean[df_twitter_arch_clean['rating_denominator']!=10][['tweet_id', 'text', 'rating_numerator', 'rating_denominator', 'numerator_clean', 'denominator_clean']].head()"
      ],
      "execution_count": 0,
      "outputs": [
        {
          "output_type": "execute_result",
          "data": {
            "text/html": [
              "<div>\n",
              "<style scoped>\n",
              "    .dataframe tbody tr th:only-of-type {\n",
              "        vertical-align: middle;\n",
              "    }\n",
              "\n",
              "    .dataframe tbody tr th {\n",
              "        vertical-align: top;\n",
              "    }\n",
              "\n",
              "    .dataframe thead th {\n",
              "        text-align: right;\n",
              "    }\n",
              "</style>\n",
              "<table border=\"1\" class=\"dataframe\">\n",
              "  <thead>\n",
              "    <tr style=\"text-align: right;\">\n",
              "      <th></th>\n",
              "      <th>tweet_id</th>\n",
              "      <th>text</th>\n",
              "      <th>rating_numerator</th>\n",
              "      <th>rating_denominator</th>\n",
              "      <th>numerator_clean</th>\n",
              "      <th>denominator_clean</th>\n",
              "    </tr>\n",
              "  </thead>\n",
              "  <tbody>\n",
              "    <tr>\n",
              "      <th>313</th>\n",
              "      <td>835246439529840640</td>\n",
              "      <td>@jonnysun @Lin_Manuel ok jomny I know you're e...</td>\n",
              "      <td>960</td>\n",
              "      <td>0</td>\n",
              "      <td>13.0</td>\n",
              "      <td>10.0</td>\n",
              "    </tr>\n",
              "    <tr>\n",
              "      <th>342</th>\n",
              "      <td>832088576586297345</td>\n",
              "      <td>@docmisterio account started on 11/15/15</td>\n",
              "      <td>11</td>\n",
              "      <td>15</td>\n",
              "      <td>0.0</td>\n",
              "      <td>0.0</td>\n",
              "    </tr>\n",
              "    <tr>\n",
              "      <th>433</th>\n",
              "      <td>820690176645140481</td>\n",
              "      <td>The floofs have been released I repeat the flo...</td>\n",
              "      <td>84</td>\n",
              "      <td>70</td>\n",
              "      <td>0.0</td>\n",
              "      <td>0.0</td>\n",
              "    </tr>\n",
              "    <tr>\n",
              "      <th>516</th>\n",
              "      <td>810984652412424192</td>\n",
              "      <td>Meet Sam. She smiles 24/7 &amp;amp; secretly aspir...</td>\n",
              "      <td>24</td>\n",
              "      <td>7</td>\n",
              "      <td>0.0</td>\n",
              "      <td>0.0</td>\n",
              "    </tr>\n",
              "    <tr>\n",
              "      <th>902</th>\n",
              "      <td>758467244762497024</td>\n",
              "      <td>Why does this never happen at my front door......</td>\n",
              "      <td>165</td>\n",
              "      <td>150</td>\n",
              "      <td>0.0</td>\n",
              "      <td>0.0</td>\n",
              "    </tr>\n",
              "  </tbody>\n",
              "</table>\n",
              "</div>"
            ],
            "text/plain": [
              "               tweet_id  ... denominator_clean\n",
              "313  835246439529840640  ...              10.0\n",
              "342  832088576586297345  ...               0.0\n",
              "433  820690176645140481  ...               0.0\n",
              "516  810984652412424192  ...               0.0\n",
              "902  758467244762497024  ...               0.0\n",
              "\n",
              "[5 rows x 6 columns]"
            ]
          },
          "metadata": {
            "tags": []
          },
          "execution_count": 99
        }
      ]
    },
    {
      "cell_type": "code",
      "metadata": {
        "id": "y9a1axZpuRL9",
        "colab_type": "code",
        "outputId": "64a25604-d7a9-4bc5-8d5a-b2e63f291a1d",
        "colab": {
          "base_uri": "https://localhost:8080/",
          "height": 551
        }
      },
      "source": [
        "# Check why there are 0 value denominators\n",
        "df_twitter_arch_clean[df_twitter_arch_clean.denominator_clean==0][['tweet_id', 'text']]"
      ],
      "execution_count": 0,
      "outputs": [
        {
          "output_type": "execute_result",
          "data": {
            "text/html": [
              "<div>\n",
              "<style scoped>\n",
              "    .dataframe tbody tr th:only-of-type {\n",
              "        vertical-align: middle;\n",
              "    }\n",
              "\n",
              "    .dataframe tbody tr th {\n",
              "        vertical-align: top;\n",
              "    }\n",
              "\n",
              "    .dataframe thead th {\n",
              "        text-align: right;\n",
              "    }\n",
              "</style>\n",
              "<table border=\"1\" class=\"dataframe\">\n",
              "  <thead>\n",
              "    <tr style=\"text-align: right;\">\n",
              "      <th></th>\n",
              "      <th>tweet_id</th>\n",
              "      <th>text</th>\n",
              "    </tr>\n",
              "  </thead>\n",
              "  <tbody>\n",
              "    <tr>\n",
              "      <th>342</th>\n",
              "      <td>832088576586297345</td>\n",
              "      <td>@docmisterio account started on 11/15/15</td>\n",
              "    </tr>\n",
              "    <tr>\n",
              "      <th>433</th>\n",
              "      <td>820690176645140481</td>\n",
              "      <td>The floofs have been released I repeat the flo...</td>\n",
              "    </tr>\n",
              "    <tr>\n",
              "      <th>516</th>\n",
              "      <td>810984652412424192</td>\n",
              "      <td>Meet Sam. She smiles 24/7 &amp;amp; secretly aspir...</td>\n",
              "    </tr>\n",
              "    <tr>\n",
              "      <th>902</th>\n",
              "      <td>758467244762497024</td>\n",
              "      <td>Why does this never happen at my front door......</td>\n",
              "    </tr>\n",
              "    <tr>\n",
              "      <th>1120</th>\n",
              "      <td>731156023742988288</td>\n",
              "      <td>Say hello to this unbelievably well behaved sq...</td>\n",
              "    </tr>\n",
              "    <tr>\n",
              "      <th>1228</th>\n",
              "      <td>713900603437621249</td>\n",
              "      <td>Happy Saturday here's 9 puppers on a bench. 99...</td>\n",
              "    </tr>\n",
              "    <tr>\n",
              "      <th>1254</th>\n",
              "      <td>710658690886586372</td>\n",
              "      <td>Here's a brigade of puppers. All look very pre...</td>\n",
              "    </tr>\n",
              "    <tr>\n",
              "      <th>1274</th>\n",
              "      <td>709198395643068416</td>\n",
              "      <td>From left to right:\\nCletus, Jerome, Alejandro...</td>\n",
              "    </tr>\n",
              "    <tr>\n",
              "      <th>1351</th>\n",
              "      <td>704054845121142784</td>\n",
              "      <td>Here is a whole flock of puppers.  60/50 I'll ...</td>\n",
              "    </tr>\n",
              "    <tr>\n",
              "      <th>1433</th>\n",
              "      <td>697463031882764288</td>\n",
              "      <td>Happy Wednesday here's a bucket of pups. 44/40...</td>\n",
              "    </tr>\n",
              "    <tr>\n",
              "      <th>1598</th>\n",
              "      <td>686035780142297088</td>\n",
              "      <td>Yes I do realize a rating of 4/20 would've bee...</td>\n",
              "    </tr>\n",
              "    <tr>\n",
              "      <th>1634</th>\n",
              "      <td>684225744407494656</td>\n",
              "      <td>Two sneaky puppers were not initially seen, mo...</td>\n",
              "    </tr>\n",
              "    <tr>\n",
              "      <th>1635</th>\n",
              "      <td>684222868335505415</td>\n",
              "      <td>Someone help the girl is being mugged. Several...</td>\n",
              "    </tr>\n",
              "    <tr>\n",
              "      <th>1663</th>\n",
              "      <td>682808988178739200</td>\n",
              "      <td>I'm aware that I could've said 20/16, but here...</td>\n",
              "    </tr>\n",
              "    <tr>\n",
              "      <th>1779</th>\n",
              "      <td>677716515794329600</td>\n",
              "      <td>IT'S PUPPERGEDDON. Total of 144/120 ...I think...</td>\n",
              "    </tr>\n",
              "    <tr>\n",
              "      <th>1843</th>\n",
              "      <td>675853064436391936</td>\n",
              "      <td>Here we have an entire platoon of puppers. Tot...</td>\n",
              "    </tr>\n",
              "  </tbody>\n",
              "</table>\n",
              "</div>"
            ],
            "text/plain": [
              "                tweet_id                                               text\n",
              "342   832088576586297345           @docmisterio account started on 11/15/15\n",
              "433   820690176645140481  The floofs have been released I repeat the flo...\n",
              "516   810984652412424192  Meet Sam. She smiles 24/7 &amp; secretly aspir...\n",
              "902   758467244762497024  Why does this never happen at my front door......\n",
              "1120  731156023742988288  Say hello to this unbelievably well behaved sq...\n",
              "1228  713900603437621249  Happy Saturday here's 9 puppers on a bench. 99...\n",
              "1254  710658690886586372  Here's a brigade of puppers. All look very pre...\n",
              "1274  709198395643068416  From left to right:\\nCletus, Jerome, Alejandro...\n",
              "1351  704054845121142784  Here is a whole flock of puppers.  60/50 I'll ...\n",
              "1433  697463031882764288  Happy Wednesday here's a bucket of pups. 44/40...\n",
              "1598  686035780142297088  Yes I do realize a rating of 4/20 would've bee...\n",
              "1634  684225744407494656  Two sneaky puppers were not initially seen, mo...\n",
              "1635  684222868335505415  Someone help the girl is being mugged. Several...\n",
              "1663  682808988178739200  I'm aware that I could've said 20/16, but here...\n",
              "1779  677716515794329600  IT'S PUPPERGEDDON. Total of 144/120 ...I think...\n",
              "1843  675853064436391936  Here we have an entire platoon of puppers. Tot..."
            ]
          },
          "metadata": {
            "tags": []
          },
          "execution_count": 100
        }
      ]
    },
    {
      "cell_type": "markdown",
      "metadata": {
        "id": "UHPT-GIkz8Wp",
        "colab_type": "text"
      },
      "source": [
        "For the ones that are blank in our extract, on doing a visual check, we noticed some them indeed had valid values. However, some of them did not. For eg. 204/170 is a valid rating. However, text 'account started on 11/15/15' does not give us the right information. Some of them had 50/50 and 13/10 in the same text and the other had 45/50. There was no pattern to distinguish beteween this. For now, we are considering only ratings with a denominator of 10"
      ]
    },
    {
      "cell_type": "code",
      "metadata": {
        "id": "C0B3jl1NCIwm",
        "colab_type": "code",
        "outputId": "689fdb57-6580-48cb-b984-796ac4f3c616",
        "colab": {
          "base_uri": "https://localhost:8080/",
          "height": 469
        }
      },
      "source": [
        "# TEST CLEANED: \n",
        "# Issue 5 - Check the column types added\n",
        "df_twitter_arch_clean.info()"
      ],
      "execution_count": 0,
      "outputs": [
        {
          "output_type": "stream",
          "text": [
            "<class 'pandas.core.frame.DataFrame'>\n",
            "Int64Index: 2121 entries, 0 to 2355\n",
            "Data columns (total 21 columns):\n",
            "tweet_id                      2121 non-null int64\n",
            "in_reply_to_status_id         77 non-null float64\n",
            "in_reply_to_user_id           77 non-null float64\n",
            "timestamp                     2121 non-null object\n",
            "source                        2121 non-null object\n",
            "text                          2121 non-null object\n",
            "retweeted_status_id           0 non-null float64\n",
            "retweeted_status_user_id      0 non-null float64\n",
            "retweeted_status_timestamp    0 non-null object\n",
            "expanded_urls                 2063 non-null object\n",
            "rating_numerator              2121 non-null int64\n",
            "rating_denominator            2121 non-null int64\n",
            "name                          2121 non-null object\n",
            "doggo                         2121 non-null object\n",
            "floofer                       2121 non-null object\n",
            "pupper                        2121 non-null object\n",
            "puppo                         2121 non-null object\n",
            "combined_puppy_stage          2121 non-null object\n",
            "text_uppercase                2121 non-null object\n",
            "numerator_clean               2121 non-null float64\n",
            "denominator_clean             2121 non-null float64\n",
            "dtypes: float64(6), int64(3), object(12)\n",
            "memory usage: 444.5+ KB\n"
          ],
          "name": "stdout"
        }
      ]
    },
    {
      "cell_type": "code",
      "metadata": {
        "id": "jlXSyWKiOxUg",
        "colab_type": "code",
        "colab": {}
      },
      "source": [
        "#DEFINE \n",
        "\n",
        "# Issue 6: Tidiness Issue - The puppy stage columns could have been consolidated to have a categorical value. However, there are 2 rows which have both values. For these 2, concatenate using ','.\n",
        " \n",
        "# Issue 7: Quality Issue - The puppy stage columns have text like 'None' Can be fixed as Blank.\n",
        "\n",
        "# CLEAN Issue 7:\n",
        "#The puppy stage columns have text like 'None' Can be fixed as Blank.\n",
        "df_twitter_arch_clean.doggo.replace('None', '', inplace=True)\n",
        "df_twitter_arch_clean.floofer.replace('None', '', inplace=True)\n",
        "df_twitter_arch_clean.pupper.replace('None', '', inplace=True)\n",
        "df_twitter_arch_clean.puppo.replace('None', '', inplace=True)"
      ],
      "execution_count": 0,
      "outputs": []
    },
    {
      "cell_type": "code",
      "metadata": {
        "id": "t2CgubmbTNf2",
        "colab_type": "code",
        "outputId": "df189121-a58f-4125-85cc-53e36c01580c",
        "colab": {
          "base_uri": "https://localhost:8080/",
          "height": 34
        }
      },
      "source": [
        "# TEST Issue 7\n",
        "df_twitter_arch_clean.doggo.str.contains('None').sum(),df_twitter_arch_clean.floofer.str.contains('None').sum(), df_twitter_arch_clean.pupper.str.contains('None').sum(), df_twitter_arch_clean.puppo.str.contains('None').sum() "
      ],
      "execution_count": 0,
      "outputs": [
        {
          "output_type": "execute_result",
          "data": {
            "text/plain": [
              "(0, 0, 0, 0)"
            ]
          },
          "metadata": {
            "tags": []
          },
          "execution_count": 103
        }
      ]
    },
    {
      "cell_type": "code",
      "metadata": {
        "id": "yJb8_zNLJatH",
        "colab_type": "code",
        "colab": {}
      },
      "source": [
        "# CLEAN Issue 6\n",
        "# The puppy stage columns could have been consolidated to have a categorical value. However, there are 2 rows which have both values. For these 2, concatenate.\n",
        "df_twitter_arch_clean['combined_puppy_stage'] = ''\n",
        "for index, row in df_twitter_arch_clean.iterrows():\n",
        "  doggo, floofer, pupper, puppo = row.doggo, row.floofer, row.pupper, row.puppo\n",
        "  str_dogstage = ''\n",
        "  if(doggo!=''):\n",
        "    str_dogstage=doggo\n",
        "  if(floofer!=''):\n",
        "    if(str_dogstage==''):\n",
        "      str_dogstage = floofer\n",
        "    else:\n",
        "      str_dogstage = str_dogstage + ',' + floofer\n",
        "  if(pupper!=''):\n",
        "    if(str_dogstage==''):\n",
        "      str_dogstage = pupper\n",
        "    else:\n",
        "      str_dogstage = str_dogstage + ',' + pupper\n",
        "  if(puppo!=''):\n",
        "    if(str_dogstage==''):\n",
        "      str_dogstage = puppo\n",
        "    else:\n",
        "      str_dogstage = str_dogstage + ',' + puppo\n",
        "\n",
        "  df_twitter_arch_clean.loc[index,'combined_puppy_stage']=str_dogstage"
      ],
      "execution_count": 0,
      "outputs": []
    },
    {
      "cell_type": "code",
      "metadata": {
        "id": "anK70oZNVgrZ",
        "colab_type": "code",
        "outputId": "8c4555bd-f735-4f93-97eb-211d0fde8921",
        "colab": {
          "base_uri": "https://localhost:8080/",
          "height": 173
        }
      },
      "source": [
        "# TEST Issue 6\n",
        "# Check the value counts\n",
        "df_twitter_arch_clean['combined_puppy_stage'].value_counts()"
      ],
      "execution_count": 0,
      "outputs": [
        {
          "output_type": "execute_result",
          "data": {
            "text/plain": [
              "                 1777\n",
              "pupper            224\n",
              "doggo              75\n",
              "puppo              24\n",
              "doggo,pupper       10\n",
              "floofer             9\n",
              "doggo,puppo         1\n",
              "doggo,floofer       1\n",
              "Name: combined_puppy_stage, dtype: int64"
            ]
          },
          "metadata": {
            "tags": []
          },
          "execution_count": 105
        }
      ]
    },
    {
      "cell_type": "code",
      "metadata": {
        "id": "pO5JB4eeVsNt",
        "colab_type": "code",
        "colab": {}
      },
      "source": [
        "# DEFINE \n",
        "# Issue 8 Quality Issue - The timestamp column has additional details like +0000 which does not look necessary/correct. \n",
        " \n",
        "# Issue 9 Tidiness Issue - The timestamp, retweeted_status_timestamp columns are object instead of datetime. Change timestamp to datetime type\n",
        "\n",
        "#CLEAN Issues 8 and 9\n",
        "df_twitter_arch_clean['timestamp_clean'] = pd.to_datetime(df_twitter_arch_clean['timestamp'], errors='coerce')\n",
        "df_twitter_arch_clean['retweeted_status_timestamp_clean'] = pd.to_datetime(df_twitter_arch_clean['retweeted_status_timestamp'], errors='coerce')"
      ],
      "execution_count": 0,
      "outputs": []
    },
    {
      "cell_type": "code",
      "metadata": {
        "id": "BubvPW-oWE2y",
        "colab_type": "code",
        "outputId": "badeefaa-c947-4348-ce0b-dbdb8bb5abd0",
        "colab": {
          "base_uri": "https://localhost:8080/",
          "height": 52
        }
      },
      "source": [
        "# TEST Issues 8 and 9\n",
        "print(str(df_twitter_arch_clean['timestamp'].dtype) + ' ' + str(df_twitter_arch_clean['timestamp_clean'].dtype))\n",
        "print(str(df_twitter_arch_clean['retweeted_status_timestamp'].dtype) + ' ' + str(df_twitter_arch_clean['retweeted_status_timestamp_clean'].dtype))"
      ],
      "execution_count": 0,
      "outputs": [
        {
          "output_type": "stream",
          "text": [
            "object datetime64[ns, UTC]\n",
            "object datetime64[ns]\n"
          ],
          "name": "stdout"
        }
      ]
    },
    {
      "cell_type": "code",
      "metadata": {
        "id": "DRv5EIZKXH5a",
        "colab_type": "code",
        "outputId": "a08b0c6f-9d82-4144-ff9a-07a1abd7544e",
        "colab": {
          "base_uri": "https://localhost:8080/",
          "height": 121
        }
      },
      "source": [
        "df_twitter_arch_clean.timestamp_clean.head()"
      ],
      "execution_count": 0,
      "outputs": [
        {
          "output_type": "execute_result",
          "data": {
            "text/plain": [
              "0   2017-08-01 16:23:56+00:00\n",
              "1   2017-08-01 00:17:27+00:00\n",
              "2   2017-07-31 00:18:03+00:00\n",
              "3   2017-07-30 15:58:51+00:00\n",
              "4   2017-07-29 16:00:24+00:00\n",
              "Name: timestamp_clean, dtype: datetime64[ns, UTC]"
            ]
          },
          "metadata": {
            "tags": []
          },
          "execution_count": 108
        }
      ]
    },
    {
      "cell_type": "code",
      "metadata": {
        "id": "QHJG6TZnYCZ3",
        "colab_type": "code",
        "colab": {}
      },
      "source": [
        "# DEFINE Issue 12 Quality Issue - Are names like all, None, an valid values. On visually checking, For values where it starts with a lowercase letter: \n",
        "# a, all, the, actually - again here it seems to be incorrectly extracted. However on visually checking these records, it seems that there are no names in these tweets. \n",
        "# Reset these values to Blank\n",
        "\n",
        "# CLEAN Issue 12 \n",
        "df_twitter_arch_clean['name_clean'] = df_twitter_arch_clean['name']\n",
        "for index, row in df_twitter_arch_clean.iterrows():\n",
        "  str_name_clean = row['name_clean']\n",
        "  if(str(str_name_clean)[0].islower()):\n",
        "    df_twitter_arch_clean.loc[index,'name_clean']='None'                    "
      ],
      "execution_count": 0,
      "outputs": []
    },
    {
      "cell_type": "code",
      "metadata": {
        "id": "j7TkLWxQYzqa",
        "colab_type": "code",
        "outputId": "e648e35b-3c5d-46e9-a218-7d8e05043434",
        "colab": {
          "base_uri": "https://localhost:8080/",
          "height": 34
        }
      },
      "source": [
        "# TEST Issue 12\n",
        "df_twitter_arch_clean[df_twitter_arch_clean['name_clean'].str[0].str.islower()]['name_clean'].value_counts()"
      ],
      "execution_count": 0,
      "outputs": [
        {
          "output_type": "execute_result",
          "data": {
            "text/plain": [
              "Series([], Name: name_clean, dtype: int64)"
            ]
          },
          "metadata": {
            "tags": []
          },
          "execution_count": 110
        }
      ]
    },
    {
      "cell_type": "code",
      "metadata": {
        "id": "jqXnQvsGbqYf",
        "colab_type": "code",
        "outputId": "813ce071-cf29-436a-955a-f7e1a6960fd2",
        "colab": {
          "base_uri": "https://localhost:8080/",
          "height": 1000
        }
      },
      "source": [
        "df_twitter_arch_clean.name_clean.value_counts()"
      ],
      "execution_count": 0,
      "outputs": [
        {
          "output_type": "execute_result",
          "data": {
            "text/plain": [
              "None         731\n",
              "Lucy          11\n",
              "Charlie       11\n",
              "Cooper        10\n",
              "Oliver        10\n",
              "Tucker         9\n",
              "Penny          9\n",
              "Sadie          8\n",
              "Winston        8\n",
              "Lola           8\n",
              "Daisy          7\n",
              "Toby           7\n",
              "Bella          6\n",
              "Bo             6\n",
              "Jax            6\n",
              "Bailey         6\n",
              "Koda           6\n",
              "Stanley        6\n",
              "Oscar          6\n",
              "Bentley        5\n",
              "Buddy          5\n",
              "Louis          5\n",
              "Rusty          5\n",
              "Milo           5\n",
              "Leo            5\n",
              "Chester        5\n",
              "Dave           5\n",
              "Scout          5\n",
              "Brody          4\n",
              "Oakley         4\n",
              "            ... \n",
              "Rooney         1\n",
              "Jed            1\n",
              "Dotsy          1\n",
              "Ester          1\n",
              "Wishes         1\n",
              "Patch          1\n",
              "Raphael        1\n",
              "Yukon          1\n",
              "Kendall        1\n",
              "Baloo          1\n",
              "Alf            1\n",
              "Nugget         1\n",
              "Robin          1\n",
              "Zuzu           1\n",
              "Berkeley       1\n",
              "Rizzy          1\n",
              "Pipsy          1\n",
              "Lillie         1\n",
              "Venti          1\n",
              "Zeek           1\n",
              "Marvin         1\n",
              "Zoe            1\n",
              "Bayley         1\n",
              "Iggy           1\n",
              "Willem         1\n",
              "Mo             1\n",
              "Ivar           1\n",
              "Leela          1\n",
              "Sprinkles      1\n",
              "Jebberson      1\n",
              "Name: name_clean, Length: 931, dtype: int64"
            ]
          },
          "metadata": {
            "tags": []
          },
          "execution_count": 111
        }
      ]
    },
    {
      "cell_type": "code",
      "metadata": {
        "colab_type": "code",
        "id": "bX_Q5_l1ZlLC",
        "colab": {}
      },
      "source": [
        "#DEFINE Issue 11 Quality Issue - The dog name column has 'None'. Should be Blank instead\n",
        "# CLEAN Issue 11\n",
        "df_twitter_arch_clean.name_clean.replace(['None'], '', inplace=True)"
      ],
      "execution_count": 0,
      "outputs": []
    },
    {
      "cell_type": "code",
      "metadata": {
        "colab_type": "code",
        "outputId": "e246e5ba-bf92-42af-d525-838ef83ca45a",
        "id": "XSKl36RkZpjy",
        "colab": {
          "base_uri": "https://localhost:8080/",
          "height": 34
        }
      },
      "source": [
        "#TEST Issue 11\n",
        "df_twitter_arch_clean[df_twitter_arch_clean.name_clean=='None'].shape[0]"
      ],
      "execution_count": 0,
      "outputs": [
        {
          "output_type": "execute_result",
          "data": {
            "text/plain": [
              "0"
            ]
          },
          "metadata": {
            "tags": []
          },
          "execution_count": 114
        }
      ]
    },
    {
      "cell_type": "code",
      "metadata": {
        "id": "zO5VKl5Cf1-u",
        "colab_type": "code",
        "outputId": "0185650b-a3ad-463c-8d2b-3650236089ef",
        "colab": {
          "base_uri": "https://localhost:8080/",
          "height": 400
        }
      },
      "source": [
        "# DEFINE: 14 Tidiness Issue - The predicted p1, p2 and p3 have values which are not dogs. \n",
        "# Relevant data would be to pick the prediction which is actually a dog with the highest probability. \n",
        "# Create a scoring system to ascertain the best probaility of a dog\n",
        "\n",
        "# CLEAN: 14\n",
        "\n",
        "truefalsemap = {\n",
        "    True: 1,\n",
        "    False: 0\n",
        "}\n",
        "\n",
        "df_image_pred_clean['p1_score'] = df_image_pred_clean['p1_conf'] * df_image_pred_clean['p1_dog'].map(truefalsemap)\n",
        "df_image_pred_clean['p2_score'] = df_image_pred_clean['p2_conf'] * df_image_pred_clean['p2_dog'].map(truefalsemap)\n",
        "df_image_pred_clean['p3_score'] = df_image_pred_clean['p3_conf'] * df_image_pred_clean['p3_dog'].map(truefalsemap)\n",
        "df_image_pred_clean.head()"
      ],
      "execution_count": 0,
      "outputs": [
        {
          "output_type": "execute_result",
          "data": {
            "text/html": [
              "<div>\n",
              "<style scoped>\n",
              "    .dataframe tbody tr th:only-of-type {\n",
              "        vertical-align: middle;\n",
              "    }\n",
              "\n",
              "    .dataframe tbody tr th {\n",
              "        vertical-align: top;\n",
              "    }\n",
              "\n",
              "    .dataframe thead th {\n",
              "        text-align: right;\n",
              "    }\n",
              "</style>\n",
              "<table border=\"1\" class=\"dataframe\">\n",
              "  <thead>\n",
              "    <tr style=\"text-align: right;\">\n",
              "      <th></th>\n",
              "      <th>tweet_id</th>\n",
              "      <th>jpg_url</th>\n",
              "      <th>img_num</th>\n",
              "      <th>p1</th>\n",
              "      <th>p1_conf</th>\n",
              "      <th>p1_dog</th>\n",
              "      <th>p2</th>\n",
              "      <th>p2_conf</th>\n",
              "      <th>p2_dog</th>\n",
              "      <th>p3</th>\n",
              "      <th>p3_conf</th>\n",
              "      <th>p3_dog</th>\n",
              "      <th>p1_score</th>\n",
              "      <th>p2_score</th>\n",
              "      <th>p3_score</th>\n",
              "    </tr>\n",
              "  </thead>\n",
              "  <tbody>\n",
              "    <tr>\n",
              "      <th>0</th>\n",
              "      <td>666020888022790149</td>\n",
              "      <td>https://pbs.twimg.com/media/CT4udn0WwAA0aMy.jpg</td>\n",
              "      <td>1</td>\n",
              "      <td>Welsh_springer_spaniel</td>\n",
              "      <td>0.465074</td>\n",
              "      <td>True</td>\n",
              "      <td>collie</td>\n",
              "      <td>0.156665</td>\n",
              "      <td>True</td>\n",
              "      <td>Shetland_sheepdog</td>\n",
              "      <td>0.061428</td>\n",
              "      <td>True</td>\n",
              "      <td>0.465074</td>\n",
              "      <td>0.156665</td>\n",
              "      <td>0.061428</td>\n",
              "    </tr>\n",
              "    <tr>\n",
              "      <th>1</th>\n",
              "      <td>666029285002620928</td>\n",
              "      <td>https://pbs.twimg.com/media/CT42GRgUYAA5iDo.jpg</td>\n",
              "      <td>1</td>\n",
              "      <td>redbone</td>\n",
              "      <td>0.506826</td>\n",
              "      <td>True</td>\n",
              "      <td>miniature_pinscher</td>\n",
              "      <td>0.074192</td>\n",
              "      <td>True</td>\n",
              "      <td>Rhodesian_ridgeback</td>\n",
              "      <td>0.072010</td>\n",
              "      <td>True</td>\n",
              "      <td>0.506826</td>\n",
              "      <td>0.074192</td>\n",
              "      <td>0.072010</td>\n",
              "    </tr>\n",
              "    <tr>\n",
              "      <th>2</th>\n",
              "      <td>666033412701032449</td>\n",
              "      <td>https://pbs.twimg.com/media/CT4521TWwAEvMyu.jpg</td>\n",
              "      <td>1</td>\n",
              "      <td>German_shepherd</td>\n",
              "      <td>0.596461</td>\n",
              "      <td>True</td>\n",
              "      <td>malinois</td>\n",
              "      <td>0.138584</td>\n",
              "      <td>True</td>\n",
              "      <td>bloodhound</td>\n",
              "      <td>0.116197</td>\n",
              "      <td>True</td>\n",
              "      <td>0.596461</td>\n",
              "      <td>0.138584</td>\n",
              "      <td>0.116197</td>\n",
              "    </tr>\n",
              "    <tr>\n",
              "      <th>3</th>\n",
              "      <td>666044226329800704</td>\n",
              "      <td>https://pbs.twimg.com/media/CT5Dr8HUEAA-lEu.jpg</td>\n",
              "      <td>1</td>\n",
              "      <td>Rhodesian_ridgeback</td>\n",
              "      <td>0.408143</td>\n",
              "      <td>True</td>\n",
              "      <td>redbone</td>\n",
              "      <td>0.360687</td>\n",
              "      <td>True</td>\n",
              "      <td>miniature_pinscher</td>\n",
              "      <td>0.222752</td>\n",
              "      <td>True</td>\n",
              "      <td>0.408143</td>\n",
              "      <td>0.360687</td>\n",
              "      <td>0.222752</td>\n",
              "    </tr>\n",
              "    <tr>\n",
              "      <th>4</th>\n",
              "      <td>666049248165822465</td>\n",
              "      <td>https://pbs.twimg.com/media/CT5IQmsXIAAKY4A.jpg</td>\n",
              "      <td>1</td>\n",
              "      <td>miniature_pinscher</td>\n",
              "      <td>0.560311</td>\n",
              "      <td>True</td>\n",
              "      <td>Rottweiler</td>\n",
              "      <td>0.243682</td>\n",
              "      <td>True</td>\n",
              "      <td>Doberman</td>\n",
              "      <td>0.154629</td>\n",
              "      <td>True</td>\n",
              "      <td>0.560311</td>\n",
              "      <td>0.243682</td>\n",
              "      <td>0.154629</td>\n",
              "    </tr>\n",
              "  </tbody>\n",
              "</table>\n",
              "</div>"
            ],
            "text/plain": [
              "             tweet_id  ...  p3_score\n",
              "0  666020888022790149  ...  0.061428\n",
              "1  666029285002620928  ...  0.072010\n",
              "2  666033412701032449  ...  0.116197\n",
              "3  666044226329800704  ...  0.222752\n",
              "4  666049248165822465  ...  0.154629\n",
              "\n",
              "[5 rows x 15 columns]"
            ]
          },
          "metadata": {
            "tags": []
          },
          "execution_count": 116
        }
      ]
    },
    {
      "cell_type": "code",
      "metadata": {
        "id": "Pln7-5UkedWc",
        "colab_type": "code",
        "colab": {}
      },
      "source": [
        "# CLEAN: 14 Contd.\n",
        "\n",
        "# Store the data in a separate column called predicted_dog\n",
        "# in case none of the prediction is a dog, keep it blank\n",
        "df_image_pred_clean['predicted_dog'] = ''\n",
        "for index, row in df_image_pred_clean.iterrows():\n",
        "  if((row['p1_score']>row['p2_score']) & (row['p1_score']>row['p3_score'])):\n",
        "    df_image_pred_clean.loc[index,'predicted_dog']=row['p1']\n",
        "  elif((row['p2_score']>row['p1_score']) & (row['p2_score']>row['p3_score'])):\n",
        "    df_image_pred_clean.loc[index,'predicted_dog']=row['p2']\n",
        "  elif((row['p3_score']>row['p1_score']) & (row['p3_score']>row['p3_score'])):\n",
        "    df_image_pred_clean.loc[index,'predicted_dog']=row['p3']"
      ],
      "execution_count": 0,
      "outputs": []
    },
    {
      "cell_type": "code",
      "metadata": {
        "id": "tlkyCcr94sy3",
        "colab_type": "code",
        "outputId": "36261700-bf86-436a-ff2b-5ad461a6d908",
        "colab": {
          "base_uri": "https://localhost:8080/",
          "height": 1000
        }
      },
      "source": [
        "# TEST 14\n",
        "df_image_pred_clean['predicted_dog'].value_counts()"
      ],
      "execution_count": 0,
      "outputs": [
        {
          "output_type": "execute_result",
          "data": {
            "text/plain": [
              "                               388\n",
              "golden_retriever               166\n",
              "Labrador_retriever             110\n",
              "Pembroke                        94\n",
              "Chihuahua                       94\n",
              "pug                             61\n",
              "toy_poodle                      48\n",
              "chow                            47\n",
              "Samoyed                         45\n",
              "Pomeranian                      41\n",
              "malamute                        32\n",
              "French_bulldog                  32\n",
              "cocker_spaniel                  31\n",
              "Chesapeake_Bay_retriever        30\n",
              "miniature_pinscher              26\n",
              "Cardigan                        22\n",
              "Staffordshire_bullterrier       22\n",
              "German_shepherd                 21\n",
              "Eskimo_dog                      20\n",
              "Siberian_husky                  20\n",
              "Shih-Tzu                        20\n",
              "Rottweiler                      19\n",
              "Lakeland_terrier                18\n",
              "beagle                          18\n",
              "Shetland_sheepdog               18\n",
              "kuvasz                          18\n",
              "Maltese_dog                     18\n",
              "Italian_greyhound               17\n",
              "basset                          17\n",
              "West_Highland_white_terrier     16\n",
              "                              ... \n",
              "giant_schnauzer                  4\n",
              "Saluki                           4\n",
              "Gordon_setter                    4\n",
              "Ibizan_hound                     4\n",
              "Weimaraner                       4\n",
              "Afghan_hound                     4\n",
              "Rhodesian_ridgeback              4\n",
              "Leonberg                         3\n",
              "cairn                            3\n",
              "komondor                         3\n",
              "Brabancon_griffon                3\n",
              "toy_terrier                      3\n",
              "briard                           3\n",
              "Irish_water_spaniel              3\n",
              "curly-coated_retriever           3\n",
              "Scottish_deerhound               3\n",
              "Greater_Swiss_Mountain_dog       3\n",
              "Sussex_spaniel                   2\n",
              "Appenzeller                      2\n",
              "groenendael                      2\n",
              "Australian_terrier               2\n",
              "black-and-tan_coonhound          2\n",
              "wire-haired_fox_terrier          2\n",
              "Japanese_spaniel                 1\n",
              "standard_schnauzer               1\n",
              "silky_terrier                    1\n",
              "Irish_wolfhound                  1\n",
              "EntleBucher                      1\n",
              "clumber                          1\n",
              "Scotch_terrier                   1\n",
              "Name: predicted_dog, Length: 113, dtype: int64"
            ]
          },
          "metadata": {
            "tags": []
          },
          "execution_count": 119
        }
      ]
    },
    {
      "cell_type": "code",
      "metadata": {
        "id": "ACZdu-ColDGt",
        "colab_type": "code",
        "colab": {}
      },
      "source": [
        "# DEFINE: 16 Tidiness Issue - Pull in the data from Image Prediction and Json data to the twitter archive dataframe for analysis\n",
        "\n",
        "# CLEAN 16\n",
        "\n",
        "# Lets put all the data together in the twitter archive dataframe\n",
        "# Merge Archived tweet data with the downloaded Json data\n",
        "# Note, here we will want only the tweets which are not re-tweets which is what we have in the json dataframe\n",
        "# Therefore use and innerjoin where entries from both twitter archive and json data match\n",
        "df_master_data = pd.merge(df_twitter_arch_clean, df_jdata_clean, on='tweet_id', how='inner')\n",
        "\n",
        "# For the image prediction merge, we will do a left join to get the details for the main dataset\n",
        "df_master_data = pd.merge(df_master_data, df_image_pred_clean, on='tweet_id', how='left')\n"
      ],
      "execution_count": 0,
      "outputs": []
    },
    {
      "cell_type": "code",
      "metadata": {
        "id": "CAkQg32f2Ca2",
        "colab_type": "code",
        "outputId": "b13c1dcc-58ed-4a38-d94e-daa8df04d80f",
        "colab": {
          "base_uri": "https://localhost:8080/",
          "height": 816
        }
      },
      "source": [
        "# TEST 16\n",
        "df_master_data.info()"
      ],
      "execution_count": 0,
      "outputs": [
        {
          "output_type": "stream",
          "text": [
            "<class 'pandas.core.frame.DataFrame'>\n",
            "Int64Index: 2121 entries, 0 to 2120\n",
            "Data columns (total 41 columns):\n",
            "tweet_id                            2121 non-null int64\n",
            "in_reply_to_status_id               77 non-null float64\n",
            "in_reply_to_user_id                 77 non-null float64\n",
            "timestamp                           2121 non-null object\n",
            "source                              2121 non-null object\n",
            "text                                2121 non-null object\n",
            "retweeted_status_id                 0 non-null float64\n",
            "retweeted_status_user_id            0 non-null float64\n",
            "retweeted_status_timestamp          0 non-null object\n",
            "expanded_urls                       2063 non-null object\n",
            "rating_numerator                    2121 non-null int64\n",
            "rating_denominator                  2121 non-null int64\n",
            "name                                2121 non-null object\n",
            "doggo                               2121 non-null object\n",
            "floofer                             2121 non-null object\n",
            "pupper                              2121 non-null object\n",
            "puppo                               2121 non-null object\n",
            "combined_puppy_stage                2121 non-null object\n",
            "text_uppercase                      2121 non-null object\n",
            "numerator_clean                     2121 non-null float64\n",
            "denominator_clean                   2121 non-null float64\n",
            "timestamp_clean                     2121 non-null datetime64[ns, UTC]\n",
            "retweeted_status_timestamp_clean    0 non-null datetime64[ns]\n",
            "name_clean                          2121 non-null object\n",
            "retweet_count                       2121 non-null int64\n",
            "favorite_count                      2121 non-null int64\n",
            "jpg_url                             1940 non-null object\n",
            "img_num                             1940 non-null float64\n",
            "p1                                  1940 non-null object\n",
            "p1_conf                             1940 non-null float64\n",
            "p1_dog                              1940 non-null object\n",
            "p2                                  1940 non-null object\n",
            "p2_conf                             1940 non-null float64\n",
            "p2_dog                              1940 non-null object\n",
            "p3                                  1940 non-null object\n",
            "p3_conf                             1940 non-null float64\n",
            "p3_dog                              1940 non-null object\n",
            "p1_score                            1940 non-null float64\n",
            "p2_score                            1940 non-null float64\n",
            "p3_score                            1940 non-null float64\n",
            "predicted_dog                       1940 non-null object\n",
            "dtypes: datetime64[ns, UTC](1), datetime64[ns](1), float64(13), int64(5), object(21)\n",
            "memory usage: 696.0+ KB\n"
          ],
          "name": "stdout"
        }
      ]
    },
    {
      "cell_type": "code",
      "metadata": {
        "id": "SJ6yPA93o7mB",
        "colab_type": "code",
        "colab": {}
      },
      "source": [
        "# DEFINE: 10. Tidiness Issue Lets drop some of the additional columns to make it look tidier\n",
        "\n",
        "# CLEAN\n",
        "cols_to_drop = ['in_reply_to_status_id', 'in_reply_to_user_id', 'doggo', 'floofer', 'pupper', 'puppo', 'retweeted_status_timestamp_clean', 'retweeted_status_id', 'retweeted_status_user_id', 'retweeted_status_timestamp', 'expanded_urls', 'p1', 'p1_dog', 'p1_conf', 'p2', 'p2_dog', 'p2_conf', 'p3', 'p3_dog', 'p3_conf' ]\n",
        "df_mastr_clean = df_master_data.copy()\n",
        "df_mastr_clean.drop(cols_to_drop, axis=1, inplace=True)"
      ],
      "execution_count": 0,
      "outputs": []
    },
    {
      "cell_type": "code",
      "metadata": {
        "id": "D_HaJcRo2WIL",
        "colab_type": "code",
        "outputId": "36f9b384-7048-4d39-81ea-eee78ee5118e",
        "colab": {
          "base_uri": "https://localhost:8080/",
          "height": 469
        }
      },
      "source": [
        "# TEST\n",
        "df_mastr_clean.info()"
      ],
      "execution_count": 0,
      "outputs": [
        {
          "output_type": "stream",
          "text": [
            "<class 'pandas.core.frame.DataFrame'>\n",
            "Int64Index: 2121 entries, 0 to 2120\n",
            "Data columns (total 21 columns):\n",
            "tweet_id                2121 non-null int64\n",
            "timestamp               2121 non-null object\n",
            "source                  2121 non-null object\n",
            "text                    2121 non-null object\n",
            "rating_numerator        2121 non-null int64\n",
            "rating_denominator      2121 non-null int64\n",
            "name                    2121 non-null object\n",
            "combined_puppy_stage    2121 non-null object\n",
            "text_uppercase          2121 non-null object\n",
            "numerator_clean         2121 non-null float64\n",
            "denominator_clean       2121 non-null float64\n",
            "timestamp_clean         2121 non-null datetime64[ns, UTC]\n",
            "name_clean              2121 non-null object\n",
            "retweet_count           2121 non-null int64\n",
            "favorite_count          2121 non-null int64\n",
            "jpg_url                 1940 non-null object\n",
            "img_num                 1940 non-null float64\n",
            "p1_score                1940 non-null float64\n",
            "p2_score                1940 non-null float64\n",
            "p3_score                1940 non-null float64\n",
            "predicted_dog           1940 non-null object\n",
            "dtypes: datetime64[ns, UTC](1), float64(6), int64(5), object(9)\n",
            "memory usage: 364.5+ KB\n"
          ],
          "name": "stdout"
        }
      ]
    },
    {
      "cell_type": "code",
      "metadata": {
        "id": "reW96E4EpvaN",
        "colab_type": "code",
        "outputId": "807d5b64-d7ea-4bf5-a2a5-8f37245eae41",
        "colab": {
          "base_uri": "https://localhost:8080/",
          "height": 591
        }
      },
      "source": [
        "df_mastr_clean.head()"
      ],
      "execution_count": 0,
      "outputs": [
        {
          "output_type": "execute_result",
          "data": {
            "text/html": [
              "<div>\n",
              "<style scoped>\n",
              "    .dataframe tbody tr th:only-of-type {\n",
              "        vertical-align: middle;\n",
              "    }\n",
              "\n",
              "    .dataframe tbody tr th {\n",
              "        vertical-align: top;\n",
              "    }\n",
              "\n",
              "    .dataframe thead th {\n",
              "        text-align: right;\n",
              "    }\n",
              "</style>\n",
              "<table border=\"1\" class=\"dataframe\">\n",
              "  <thead>\n",
              "    <tr style=\"text-align: right;\">\n",
              "      <th></th>\n",
              "      <th>tweet_id</th>\n",
              "      <th>timestamp</th>\n",
              "      <th>source</th>\n",
              "      <th>text</th>\n",
              "      <th>rating_numerator</th>\n",
              "      <th>rating_denominator</th>\n",
              "      <th>name</th>\n",
              "      <th>combined_puppy_stage</th>\n",
              "      <th>text_uppercase</th>\n",
              "      <th>numerator_clean</th>\n",
              "      <th>denominator_clean</th>\n",
              "      <th>timestamp_clean</th>\n",
              "      <th>name_clean</th>\n",
              "      <th>retweet_count</th>\n",
              "      <th>favorite_count</th>\n",
              "      <th>jpg_url</th>\n",
              "      <th>img_num</th>\n",
              "      <th>p1_score</th>\n",
              "      <th>p2_score</th>\n",
              "      <th>p3_score</th>\n",
              "      <th>predicted_dog</th>\n",
              "    </tr>\n",
              "  </thead>\n",
              "  <tbody>\n",
              "    <tr>\n",
              "      <th>0</th>\n",
              "      <td>892420643555336193</td>\n",
              "      <td>2017-08-01 16:23:56 +0000</td>\n",
              "      <td>&lt;a href=\"http://twitter.com/download/iphone\" r...</td>\n",
              "      <td>This is Phineas. He's a mystical boy. Only eve...</td>\n",
              "      <td>13</td>\n",
              "      <td>10</td>\n",
              "      <td>Phineas</td>\n",
              "      <td></td>\n",
              "      <td>THIS IS PHINEAS. HE'S A MYSTICAL BOY. ONLY EVE...</td>\n",
              "      <td>13.0</td>\n",
              "      <td>10.0</td>\n",
              "      <td>2017-08-01 16:23:56+00:00</td>\n",
              "      <td>Phineas</td>\n",
              "      <td>8853</td>\n",
              "      <td>39467</td>\n",
              "      <td>https://pbs.twimg.com/media/DGKD1-bXoAAIAUK.jpg</td>\n",
              "      <td>1.0</td>\n",
              "      <td>0.000000</td>\n",
              "      <td>0.000000</td>\n",
              "      <td>0.000000</td>\n",
              "      <td></td>\n",
              "    </tr>\n",
              "    <tr>\n",
              "      <th>1</th>\n",
              "      <td>892177421306343426</td>\n",
              "      <td>2017-08-01 00:17:27 +0000</td>\n",
              "      <td>&lt;a href=\"http://twitter.com/download/iphone\" r...</td>\n",
              "      <td>This is Tilly. She's just checking pup on you....</td>\n",
              "      <td>13</td>\n",
              "      <td>10</td>\n",
              "      <td>Tilly</td>\n",
              "      <td></td>\n",
              "      <td>THIS IS TILLY. SHE'S JUST CHECKING PUP ON YOU....</td>\n",
              "      <td>13.0</td>\n",
              "      <td>10.0</td>\n",
              "      <td>2017-08-01 00:17:27+00:00</td>\n",
              "      <td>Tilly</td>\n",
              "      <td>6514</td>\n",
              "      <td>33819</td>\n",
              "      <td>https://pbs.twimg.com/media/DGGmoV4XsAAUL6n.jpg</td>\n",
              "      <td>1.0</td>\n",
              "      <td>0.323581</td>\n",
              "      <td>0.090647</td>\n",
              "      <td>0.068957</td>\n",
              "      <td>Chihuahua</td>\n",
              "    </tr>\n",
              "    <tr>\n",
              "      <th>2</th>\n",
              "      <td>891815181378084864</td>\n",
              "      <td>2017-07-31 00:18:03 +0000</td>\n",
              "      <td>&lt;a href=\"http://twitter.com/download/iphone\" r...</td>\n",
              "      <td>This is Archie. He is a rare Norwegian Pouncin...</td>\n",
              "      <td>12</td>\n",
              "      <td>10</td>\n",
              "      <td>Archie</td>\n",
              "      <td></td>\n",
              "      <td>THIS IS ARCHIE. HE IS A RARE NORWEGIAN POUNCIN...</td>\n",
              "      <td>12.0</td>\n",
              "      <td>10.0</td>\n",
              "      <td>2017-07-31 00:18:03+00:00</td>\n",
              "      <td>Archie</td>\n",
              "      <td>4328</td>\n",
              "      <td>25461</td>\n",
              "      <td>https://pbs.twimg.com/media/DGBdLU1WsAANxJ9.jpg</td>\n",
              "      <td>1.0</td>\n",
              "      <td>0.716012</td>\n",
              "      <td>0.078253</td>\n",
              "      <td>0.031379</td>\n",
              "      <td>Chihuahua</td>\n",
              "    </tr>\n",
              "    <tr>\n",
              "      <th>3</th>\n",
              "      <td>891689557279858688</td>\n",
              "      <td>2017-07-30 15:58:51 +0000</td>\n",
              "      <td>&lt;a href=\"http://twitter.com/download/iphone\" r...</td>\n",
              "      <td>This is Darla. She commenced a snooze mid meal...</td>\n",
              "      <td>13</td>\n",
              "      <td>10</td>\n",
              "      <td>Darla</td>\n",
              "      <td></td>\n",
              "      <td>THIS IS DARLA. SHE COMMENCED A SNOOZE MID MEAL...</td>\n",
              "      <td>13.0</td>\n",
              "      <td>10.0</td>\n",
              "      <td>2017-07-30 15:58:51+00:00</td>\n",
              "      <td>Darla</td>\n",
              "      <td>8964</td>\n",
              "      <td>42908</td>\n",
              "      <td>https://pbs.twimg.com/media/DF_q7IAWsAEuuN8.jpg</td>\n",
              "      <td>1.0</td>\n",
              "      <td>0.000000</td>\n",
              "      <td>0.168086</td>\n",
              "      <td>0.000000</td>\n",
              "      <td>Labrador_retriever</td>\n",
              "    </tr>\n",
              "    <tr>\n",
              "      <th>4</th>\n",
              "      <td>891327558926688256</td>\n",
              "      <td>2017-07-29 16:00:24 +0000</td>\n",
              "      <td>&lt;a href=\"http://twitter.com/download/iphone\" r...</td>\n",
              "      <td>This is Franklin. He would like you to stop ca...</td>\n",
              "      <td>12</td>\n",
              "      <td>10</td>\n",
              "      <td>Franklin</td>\n",
              "      <td></td>\n",
              "      <td>THIS IS FRANKLIN. HE WOULD LIKE YOU TO STOP CA...</td>\n",
              "      <td>12.0</td>\n",
              "      <td>10.0</td>\n",
              "      <td>2017-07-29 16:00:24+00:00</td>\n",
              "      <td>Franklin</td>\n",
              "      <td>9774</td>\n",
              "      <td>41048</td>\n",
              "      <td>https://pbs.twimg.com/media/DF6hr6BUMAAzZgT.jpg</td>\n",
              "      <td>2.0</td>\n",
              "      <td>0.555712</td>\n",
              "      <td>0.225770</td>\n",
              "      <td>0.175219</td>\n",
              "      <td>basset</td>\n",
              "    </tr>\n",
              "  </tbody>\n",
              "</table>\n",
              "</div>"
            ],
            "text/plain": [
              "             tweet_id                  timestamp  ...  p3_score       predicted_dog\n",
              "0  892420643555336193  2017-08-01 16:23:56 +0000  ...  0.000000                    \n",
              "1  892177421306343426  2017-08-01 00:17:27 +0000  ...  0.068957           Chihuahua\n",
              "2  891815181378084864  2017-07-31 00:18:03 +0000  ...  0.031379           Chihuahua\n",
              "3  891689557279858688  2017-07-30 15:58:51 +0000  ...  0.000000  Labrador_retriever\n",
              "4  891327558926688256  2017-07-29 16:00:24 +0000  ...  0.175219              basset\n",
              "\n",
              "[5 rows x 21 columns]"
            ]
          },
          "metadata": {
            "tags": []
          },
          "execution_count": 124
        }
      ]
    },
    {
      "cell_type": "markdown",
      "metadata": {
        "id": "b11CHtiwj6dj",
        "colab_type": "text"
      },
      "source": [
        "# Analyze and visualize - three (3) insights and one (1) visualization"
      ]
    },
    {
      "cell_type": "code",
      "metadata": {
        "id": "nnX2SFOUIiXR",
        "colab_type": "code",
        "outputId": "0c8f5c8d-6e2c-4075-aa3b-14fab7c6fc6b",
        "colab": {
          "base_uri": "https://localhost:8080/",
          "height": 34
        }
      },
      "source": [
        "# What is the average dog rating\n",
        "df_mastr_clean.numerator_clean.mean()"
      ],
      "execution_count": 0,
      "outputs": [
        {
          "output_type": "execute_result",
          "data": {
            "text/plain": [
              "12.161848184818481"
            ]
          },
          "metadata": {
            "tags": []
          },
          "execution_count": 125
        }
      ]
    },
    {
      "cell_type": "code",
      "metadata": {
        "id": "PEilFp0gujpl",
        "colab_type": "code",
        "outputId": "ae6afd95-1795-4425-d24d-5a8fb90c8595",
        "colab": {
          "base_uri": "https://localhost:8080/",
          "height": 69
        }
      },
      "source": [
        "# What is the average rating by dog type as based on the image predictions\n",
        "df_mastr_clean[df_mastr_clean.predicted_dog!=''].groupby('predicted_dog')['numerator_clean'].mean().sort_values(ascending=False).head(1)\n",
        "# Insight 1: This shows that the dog type Clumber most probably has the highest average rating as per this twitter account"
      ],
      "execution_count": 0,
      "outputs": [
        {
          "output_type": "execute_result",
          "data": {
            "text/plain": [
              "predicted_dog\n",
              "Saluki    12.5\n",
              "Name: numerator_clean, dtype: float64"
            ]
          },
          "metadata": {
            "tags": []
          },
          "execution_count": 132
        }
      ]
    },
    {
      "cell_type": "code",
      "metadata": {
        "id": "Sh8cFBpIvDuF",
        "colab_type": "code",
        "outputId": "ad5e71d2-a032-4ead-a987-61147fb9c375",
        "colab": {
          "base_uri": "https://localhost:8080/",
          "height": 69
        }
      },
      "source": [
        "df_mastr_clean[df_mastr_clean.predicted_dog!=''].groupby('predicted_dog')['numerator_clean'].mean().sort_values().head(1)\n",
        "# Insight 1 contd. the dog type Japanese Spaniel most probably has the lowest average rating as per this twitter account"
      ],
      "execution_count": 0,
      "outputs": [
        {
          "output_type": "execute_result",
          "data": {
            "text/plain": [
              "predicted_dog\n",
              "Japanese_spaniel    5.0\n",
              "Name: numerator_clean, dtype: float64"
            ]
          },
          "metadata": {
            "tags": []
          },
          "execution_count": 133
        }
      ]
    },
    {
      "cell_type": "code",
      "metadata": {
        "id": "Hn-kLo0hzCKL",
        "colab_type": "code",
        "outputId": "a1126f87-1d56-441b-e062-46989f8c21c0",
        "colab": {
          "base_uri": "https://localhost:8080/",
          "height": 69
        }
      },
      "source": [
        "# Insight 2: Which type of dogs were retweeted the most\n",
        "\n",
        "df_mastr_clean[df_mastr_clean.predicted_dog!=''].groupby('predicted_dog')['retweet_count'].mean().sort_values(ascending=False).head(1)\n",
        "\n",
        "# Bedlington Terrier dogs were the most re-tweeted"
      ],
      "execution_count": 0,
      "outputs": [
        {
          "output_type": "execute_result",
          "data": {
            "text/plain": [
              "predicted_dog\n",
              "Bedlington_terrier    8740.2\n",
              "Name: retweet_count, dtype: float64"
            ]
          },
          "metadata": {
            "tags": []
          },
          "execution_count": 134
        }
      ]
    },
    {
      "cell_type": "code",
      "metadata": {
        "id": "FoGBB6U-0T9_",
        "colab_type": "code",
        "outputId": "3e9844ac-4d26-424c-fde8-ececb31e5258",
        "colab": {
          "base_uri": "https://localhost:8080/",
          "height": 69
        }
      },
      "source": [
        "# Insight 2: Contd.: Which type of dogs were retweeted the least\n",
        "df_mastr_clean[df_mastr_clean.predicted_dog!=''].groupby('predicted_dog')['retweet_count'].mean().sort_values(ascending=True).head(1)\n",
        "\n",
        "# groenendael dogs were the least re-tweeted"
      ],
      "execution_count": 0,
      "outputs": [
        {
          "output_type": "execute_result",
          "data": {
            "text/plain": [
              "predicted_dog\n",
              "groenendael    276.5\n",
              "Name: retweet_count, dtype: float64"
            ]
          },
          "metadata": {
            "tags": []
          },
          "execution_count": 135
        }
      ]
    },
    {
      "cell_type": "code",
      "metadata": {
        "id": "fvkxuXpG30FZ",
        "colab_type": "code",
        "outputId": "2b1b4f63-ae41-4c47-e62d-bc4ca66fa9ad",
        "colab": {
          "base_uri": "https://localhost:8080/",
          "height": 69
        }
      },
      "source": [
        "# Insight 3: Which type of dogs were favorited the most\n",
        "df_mastr_clean.groupby('predicted_dog')['favorite_count'].mean().sort_values(ascending=False).head(1)\n",
        "\n",
        "# Saluki dogs were the most favorited\n"
      ],
      "execution_count": 0,
      "outputs": [
        {
          "output_type": "execute_result",
          "data": {
            "text/plain": [
              "predicted_dog\n",
              "Bedlington_terrier    24438.4\n",
              "Name: favorite_count, dtype: float64"
            ]
          },
          "metadata": {
            "tags": []
          },
          "execution_count": 60
        }
      ]
    },
    {
      "cell_type": "code",
      "metadata": {
        "id": "YfYeKGgq3hFt",
        "colab_type": "code",
        "outputId": "7367418e-b87e-4e99-89e4-4682dd31e99f",
        "colab": {
          "base_uri": "https://localhost:8080/",
          "height": 69
        }
      },
      "source": [
        "# Insight 3: Contd: Which type of dogs were favorited the least\n",
        "df_mastr_clean.groupby('predicted_dog')['favorite_count'].mean().sort_values(ascending=True).head(1)\n",
        "\n",
        "# Brabancon_griffon dogs were the least favorited\n"
      ],
      "execution_count": 0,
      "outputs": [
        {
          "output_type": "execute_result",
          "data": {
            "text/plain": [
              "predicted_dog\n",
              "Brabancon_griffon    885.0\n",
              "Name: favorite_count, dtype: float64"
            ]
          },
          "metadata": {
            "tags": []
          },
          "execution_count": 61
        }
      ]
    },
    {
      "cell_type": "code",
      "metadata": {
        "id": "rpjLa5oQ4s65",
        "colab_type": "code",
        "outputId": "7a0c1da3-e3b9-4654-b03b-87bebf0b04d1",
        "colab": {
          "base_uri": "https://localhost:8080/",
          "height": 121
        }
      },
      "source": [
        "#Insight 4: Which is the most common dog name\n",
        "df_mastr_clean['name_clean'].value_counts().sort_values(ascending=False).head(5)\n",
        "\n",
        "# Charlie and Lucy seems to the most common dog names followed by Cooper and Oliver"
      ],
      "execution_count": 0,
      "outputs": [
        {
          "output_type": "execute_result",
          "data": {
            "text/plain": [
              "           731\n",
              "Charlie     11\n",
              "Lucy        11\n",
              "Oliver      10\n",
              "Cooper      10\n",
              "Name: name_clean, dtype: int64"
            ]
          },
          "metadata": {
            "tags": []
          },
          "execution_count": 136
        }
      ]
    },
    {
      "cell_type": "code",
      "metadata": {
        "id": "dADe75JI6frD",
        "colab_type": "code",
        "outputId": "a8e8766d-c4db-49dd-ceea-ad7ccd577643",
        "colab": {
          "base_uri": "https://localhost:8080/",
          "height": 69
        }
      },
      "source": [
        "#Insight 5: which is the most favorited dog stage\n",
        "df_mastr_clean.groupby('combined_puppy_stage')['favorite_count'].mean().sort_values(ascending=False).head(1)\n",
        "\n",
        "#puppo seems to be most popular"
      ],
      "execution_count": 0,
      "outputs": [
        {
          "output_type": "execute_result",
          "data": {
            "text/plain": [
              "combined_puppy_stage\n",
              "doggo,puppo    47844.0\n",
              "Name: favorite_count, dtype: float64"
            ]
          },
          "metadata": {
            "tags": []
          },
          "execution_count": 137
        }
      ]
    },
    {
      "cell_type": "code",
      "metadata": {
        "id": "Oaa9sWfP78Vs",
        "colab_type": "code",
        "outputId": "e5c3db44-46b6-469f-aad2-07cfc5179e36",
        "colab": {
          "base_uri": "https://localhost:8080/",
          "height": 34
        }
      },
      "source": [
        "# When was the first tweet and the last tweet in this dataset\n",
        "df_mastr_clean.timestamp_clean.min()"
      ],
      "execution_count": 0,
      "outputs": [
        {
          "output_type": "execute_result",
          "data": {
            "text/plain": [
              "Timestamp('2015-11-15 22:32:08+0000', tz='UTC')"
            ]
          },
          "metadata": {
            "tags": []
          },
          "execution_count": 138
        }
      ]
    },
    {
      "cell_type": "code",
      "metadata": {
        "id": "lZhKY6ZaM3sb",
        "colab_type": "code",
        "outputId": "50f66c25-d9b4-4233-e9c3-491da4a996f0",
        "colab": {
          "base_uri": "https://localhost:8080/",
          "height": 34
        }
      },
      "source": [
        "df_mastr_clean.timestamp_clean.max()"
      ],
      "execution_count": 0,
      "outputs": [
        {
          "output_type": "execute_result",
          "data": {
            "text/plain": [
              "Timestamp('2017-08-01 16:23:56+0000', tz='UTC')"
            ]
          },
          "metadata": {
            "tags": []
          },
          "execution_count": 139
        }
      ]
    },
    {
      "cell_type": "code",
      "metadata": {
        "id": "qc92N73GM53s",
        "colab_type": "code",
        "outputId": "3a9ca85d-739c-485a-c22d-c05b21f74121",
        "colab": {
          "base_uri": "https://localhost:8080/",
          "height": 351
        }
      },
      "source": [
        "#Visualization 1\n",
        "# What was the frequency of tweets based on this dataset\n",
        "ax = df_mastr_clean.groupby(df_mastr_clean['timestamp_clean'].dt.strftime('%Y %b'))['tweet_id'].count().plot.bar()\n",
        "ax.set_title('Tweeting Frequency')\n",
        "ax.set_xlabel('Timeline')\n",
        "ax.set_ylabel('No. of Tweets')"
      ],
      "execution_count": 145,
      "outputs": [
        {
          "output_type": "execute_result",
          "data": {
            "text/plain": [
              "Text(0, 0.5, 'No. of Tweets')"
            ]
          },
          "metadata": {
            "tags": []
          },
          "execution_count": 145
        },
        {
          "output_type": "display_data",
          "data": {
            "image/png": "[encoded data removed]",
            "text/plain": [
              "<Figure size 432x288 with 1 Axes>"
            ]
          },
          "metadata": {
            "tags": []
          }
        }
      ]
    },
    {
      "cell_type": "code",
      "metadata": {
        "id": "pO2BlfAsNuAf",
        "colab_type": "code",
        "outputId": "2bbabdd8-b877-4895-b318-7abcc854bd98",
        "colab": {
          "base_uri": "https://localhost:8080/",
          "height": 225
        }
      },
      "source": [
        "# Visualization 2\n",
        "# Which type of dog was the most tweeted about. Since there are many dog types\n",
        "# Lets pare it down to the top 10 most frequently tweeted dog type\n",
        "df_tweet_countby_dogtype = df_mastr_clean[df_mastr_clean['predicted_dog']!=''].groupby('predicted_dog')['tweet_id'].count().sort_values(ascending=False).head(10)\n",
        "df_tweet_countby_dogtype"
      ],
      "execution_count": 146,
      "outputs": [
        {
          "output_type": "execute_result",
          "data": {
            "text/plain": [
              "predicted_dog\n",
              "golden_retriever      150\n",
              "Labrador_retriever     99\n",
              "Pembroke               90\n",
              "Chihuahua              89\n",
              "pug                    55\n",
              "toy_poodle             47\n",
              "Pomeranian             41\n",
              "chow                   41\n",
              "Samoyed                37\n",
              "malamute               30\n",
              "Name: tweet_id, dtype: int64"
            ]
          },
          "metadata": {
            "tags": []
          },
          "execution_count": 146
        }
      ]
    },
    {
      "cell_type": "code",
      "metadata": {
        "id": "x-vs2HvSPBNm",
        "colab_type": "code",
        "outputId": "8a9505e6-b7c3-4f6c-87f3-093be4017fe5",
        "colab": {
          "base_uri": "https://localhost:8080/",
          "height": 285
        }
      },
      "source": [
        "# lets do a pie chart for this information\n",
        "ax = df_tweet_countby_dogtype.plot.pie(autopct='%1.0f%%')\n",
        "ax.set_title('Percentage of tweets by Dog Breed')"
      ],
      "execution_count": 144,
      "outputs": [
        {
          "output_type": "execute_result",
          "data": {
            "text/plain": [
              "Text(0.5, 1.0, 'Percentage of tweets by Dog Breed')"
            ]
          },
          "metadata": {
            "tags": []
          },
          "execution_count": 144
        },
        {
          "output_type": "display_data",
          "data": {
            "image/png": "[encoded data removed]",
            "text/plain": [
              "<Figure size 432x288 with 1 Axes>"
            ]
          },
          "metadata": {
            "tags": []
          }
        }
      ]
    },
    {
      "cell_type": "code",
      "metadata": {
        "id": "RFTtxcWAP2FI",
        "colab_type": "code",
        "colab": {}
      },
      "source": [
        "df_mastr_clean.to_csv(fn_final_clean_file, index=False)"
      ],
      "execution_count": 0,
      "outputs": []
    },
    {
      "cell_type": "code",
      "metadata": {
        "id": "yMRW0WaoTcsH",
        "colab_type": "code",
        "colab": {}
      },
      "source": [
        ""
      ],
      "execution_count": 0,
      "outputs": []
    }
  ]
}